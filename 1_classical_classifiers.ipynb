{
  "cells": [
    {
      "cell_type": "markdown",
      "metadata": {
        "id": "VyWFQyvcVql2"
      },
      "source": [
        "# Machine learning: exam assignment\n",
        "### Predicting Marvel vs DC\n",
        "\n",
        "#### Student: Jeroen Van Sweeveldt\n",
        "##### Assignment: binary classification, predicting the creator of the respective superhero using the 'history_text' feature.\n",
        "##### Part 2: training classical algorithms"
      ]
    },
    {
      "cell_type": "markdown",
      "metadata": {
        "id": "HoZr58mnVql3"
      },
      "source": [
        "### 1 Model preparation"
      ]
    },
    {
      "cell_type": "code",
      "execution_count": 1,
      "metadata": {
        "id": "P4jJBWH4Vql3"
      },
      "outputs": [
        {
          "name": "stdout",
          "output_type": "stream",
          "text": [
            "Sklearn == 1.3.2\n"
          ]
        }
      ],
      "source": [
        "# imports for data exploration\n",
        "import numpy as np\n",
        "import pandas as pd\n",
        "\n",
        "# imports for data visualisation\n",
        "import matplotlib.pyplot as plt\n",
        "%matplotlib inline\n",
        "import seaborn as sns\n",
        "import pprint as pp\n",
        "\n",
        "# imports for classifiers\n",
        "import sklearn\n",
        "from sklearn.model_selection import train_test_split, cross_val_score, GridSearchCV\n",
        "from sklearn.pipeline import make_pipeline\n",
        "from sklearn.feature_extraction.text import TfidfVectorizer\n",
        "from sklearn.preprocessing import RobustScaler\n",
        "\n",
        "from sklearn import set_config\n",
        "\n",
        "from sklearn.dummy import DummyClassifier\n",
        "from sklearn.linear_model import LogisticRegression\n",
        "from sklearn.neighbors import KNeighborsClassifier\n",
        "from sklearn.svm import SVC\n",
        "from sklearn.naive_bayes import MultinomialNB\n",
        "\n",
        "# imports for evaluation\n",
        "from sklearn.metrics import classification_report, accuracy_score, ConfusionMatrixDisplay\n",
        "\n",
        "print(f\"Sklearn == {sklearn.__version__}\")"
      ]
    },
    {
      "cell_type": "code",
      "execution_count": 2,
      "metadata": {
        "id": "P7EEag0-Vql4"
      },
      "outputs": [],
      "source": [
        "# open the dataset as a comma separated values file\n",
        "heroes = pd.read_csv(\"data/heroes_preprocessed.csv\",\n",
        "                     encoding=\"UTF-8\",\n",
        "                     usecols=[\"creator\",\n",
        "                              \"hist_text_classic\",\n",
        "                              \"label\"\n",
        "                              ])"
      ]
    },
    {
      "cell_type": "code",
      "execution_count": 3,
      "metadata": {
        "id": "kTpdcEy7Vql4",
        "outputId": "2775d934-e2da-4682-8103-e258125143ff"
      },
      "outputs": [
        {
          "data": {
            "text/html": [
              "<div>\n",
              "<style scoped>\n",
              "    .dataframe tbody tr th:only-of-type {\n",
              "        vertical-align: middle;\n",
              "    }\n",
              "\n",
              "    .dataframe tbody tr th {\n",
              "        vertical-align: top;\n",
              "    }\n",
              "\n",
              "    .dataframe thead th {\n",
              "        text-align: right;\n",
              "    }\n",
              "</style>\n",
              "<table border=\"1\" class=\"dataframe\">\n",
              "  <thead>\n",
              "    <tr style=\"text-align: right;\">\n",
              "      <th></th>\n",
              "      <th>hist_text_classic</th>\n",
              "      <th>creator</th>\n",
              "      <th>label</th>\n",
              "    </tr>\n",
              "  </thead>\n",
              "  <tbody>\n",
              "    <tr>\n",
              "      <th>1513</th>\n",
              "      <td>xavi father make statue magneto professor x gi...</td>\n",
              "      <td>Marvel Comics</td>\n",
              "      <td>1</td>\n",
              "    </tr>\n",
              "    <tr>\n",
              "      <th>1358</th>\n",
              "      <td>2006 \" civil war \" storyline , misty knight co...</td>\n",
              "      <td>Marvel Comics</td>\n",
              "      <td>1</td>\n",
              "    </tr>\n",
              "    <tr>\n",
              "      <th>55</th>\n",
              "      <td>aaron helzinger giant man prone fit homicidal ...</td>\n",
              "      <td>DC Comics</td>\n",
              "      <td>0</td>\n",
              "    </tr>\n",
              "    <tr>\n",
              "      <th>1607</th>\n",
              "      <td>soldier fail kill vicki vale , ra al ghul deci...</td>\n",
              "      <td>DC Comics</td>\n",
              "      <td>0</td>\n",
              "    </tr>\n",
              "    <tr>\n",
              "      <th>63</th>\n",
              "      <td>aldrif odinsdottir firstborn odin freyja , hei...</td>\n",
              "      <td>Marvel Comics</td>\n",
              "      <td>1</td>\n",
              "    </tr>\n",
              "    <tr>\n",
              "      <th>189</th>\n",
              "      <td>daughter david cain sandra wu - san ( lady shi...</td>\n",
              "      <td>DC Comics</td>\n",
              "      <td>0</td>\n",
              "    </tr>\n",
              "    <tr>\n",
              "      <th>1275</th>\n",
              "      <td>john jameson , son newspaper mogul j. jonah ja...</td>\n",
              "      <td>Marvel Comics</td>\n",
              "      <td>1</td>\n",
              "    </tr>\n",
              "    <tr>\n",
              "      <th>1297</th>\n",
              "      <td>appear feeling wonder girl , claim \" hate wond...</td>\n",
              "      <td>DC Comics</td>\n",
              "      <td>0</td>\n",
              "    </tr>\n",
              "    <tr>\n",
              "      <th>680</th>\n",
              "      <td>early life n'jadaka father press work villain ...</td>\n",
              "      <td>Marvel Comics</td>\n",
              "      <td>1</td>\n",
              "    </tr>\n",
              "    <tr>\n",
              "      <th>570</th>\n",
              "      <td>note read , \" - . \"       deathstroke found me...</td>\n",
              "      <td>DC Comics</td>\n",
              "      <td>0</td>\n",
              "    </tr>\n",
              "  </tbody>\n",
              "</table>\n",
              "</div>"
            ],
            "text/plain": [
              "                                      hist_text_classic        creator  label\n",
              "1513  xavi father make statue magneto professor x gi...  Marvel Comics      1\n",
              "1358  2006 \" civil war \" storyline , misty knight co...  Marvel Comics      1\n",
              "55    aaron helzinger giant man prone fit homicidal ...      DC Comics      0\n",
              "1607  soldier fail kill vicki vale , ra al ghul deci...      DC Comics      0\n",
              "63    aldrif odinsdottir firstborn odin freyja , hei...  Marvel Comics      1\n",
              "189   daughter david cain sandra wu - san ( lady shi...      DC Comics      0\n",
              "1275  john jameson , son newspaper mogul j. jonah ja...  Marvel Comics      1\n",
              "1297  appear feeling wonder girl , claim \" hate wond...      DC Comics      0\n",
              "680   early life n'jadaka father press work villain ...  Marvel Comics      1\n",
              "570   note read , \" - . \"       deathstroke found me...      DC Comics      0"
            ]
          },
          "execution_count": 3,
          "metadata": {},
          "output_type": "execute_result"
        }
      ],
      "source": [
        "heroes.sample(10)"
      ]
    },
    {
      "cell_type": "code",
      "execution_count": 4,
      "metadata": {},
      "outputs": [],
      "source": [
        "# account for the data imbalance\n",
        "c_weights = {0: 1.45, 1: 1.0}"
      ]
    },
    {
      "cell_type": "markdown",
      "metadata": {
        "id": "FvpyX3SmXUMX"
      },
      "source": [
        "Given the size of the dataset, I will perform an 80/10/10 split. With classical algorithms, we were taught to split the dataset in two sets, a train and test set, but since a neural network comes into play, I will split the data in three sets, a train, development, and test set.\n",
        "\n",
        "We were never shown how to apply this in a situation in which both a classical and neural algorithm were used, but my reasoning, based on what we were taught in the lectures, is that you can only perform a single train-test-split. (That means, no split with two sets for the classical and another split with three sets for the neural, as I imagine some people would do). Otherwise the results of our training will be unreliable, as we'll end up with different data distributions.\n",
        "\n",
        "Since the development set is used in the neural network as a substitute for the classical ML's cross-validation, I will perform the grid search for the classical algorithms on the dev set."
      ]
    },
    {
      "cell_type": "code",
      "execution_count": 5,
      "metadata": {
        "colab": {
          "base_uri": "https://localhost:8080/"
        },
        "id": "EFxAKteTl2lC",
        "outputId": "b65fe857-2ad4-4add-ceb0-161e0b6263fd"
      },
      "outputs": [
        {
          "data": {
            "text/plain": [
              "((1853,), (232,), (232,), (1853,), (232,), (232,))"
            ]
          },
          "execution_count": 5,
          "metadata": {},
          "output_type": "execute_result"
        }
      ],
      "source": [
        "X_text = heroes.hist_text_classic\n",
        "y_label = heroes.label\n",
        "\n",
        "\n",
        "X_train, X_dev_test, y_train, y_dev_test = train_test_split(X_text, y_label, test_size=0.2,\n",
        "                                                    random_state=256, stratify=y_label)\n",
        "\n",
        "X_dev, X_test, y_dev, y_test = train_test_split(X_dev_test, y_dev_test, test_size=0.5,\n",
        "                                                    random_state=256, stratify=y_dev_test)\n",
        "\n",
        "X_train.shape, X_dev.shape, X_test.shape, y_train.shape, y_dev.shape, y_test.shape"
      ]
    },
    {
      "cell_type": "code",
      "execution_count": 6,
      "metadata": {
        "id": "FCAfhyDmVql-"
      },
      "outputs": [],
      "source": [
        "set_config(display=\"diagram\")\n",
        "\n",
        "vect = TfidfVectorizer(analyzer=\"word\", max_features=512)\n",
        "# we're going to use the RobustScaler because neither the\n",
        "# StandardScaler nor MinMaxScaler support sparse matrices\n",
        "# (the former cannot center the data in sparse matrices)\n",
        "# moreover, it yields better performance than the MaxAbsScaler\n",
        "# on the Logistic Regression model tests\n",
        "# this is probably due to the RobustScaler's ability to\n",
        "# handle outliers\n",
        "scaler = RobustScaler(with_centering=False)\n",
        "\n",
        "logreg = LogisticRegression(max_iter=5120, random_state=256)\n",
        "knn = KNeighborsClassifier()\n",
        "svm = SVC(random_state=256)\n",
        "nb = MultinomialNB()\n",
        "\n",
        "logreg_pipe = make_pipeline(vect, scaler, logreg)\n",
        "knn_pipe = make_pipeline(vect, scaler, knn)\n",
        "svm_pipe = make_pipeline(vect, scaler, svm)\n",
        "nb_pipe = make_pipeline(vect, scaler, nb)\n",
        "\n",
        "# baseline classifier:\n",
        "dummy = DummyClassifier(strategy=\"stratified\", random_state=256)\n",
        "\n",
        "dummy_pipe = make_pipeline(vect, scaler, dummy)"
      ]
    },
    {
      "cell_type": "markdown",
      "metadata": {
        "id": "aqJtbxCvOBvY"
      },
      "source": [
        "#### 1.2 Baseline"
      ]
    },
    {
      "cell_type": "code",
      "execution_count": 7,
      "metadata": {
        "colab": {
          "base_uri": "https://localhost:8080/",
          "height": 161
        },
        "id": "xr3iD2-yM4V4",
        "outputId": "5a18bf4e-e6e0-40d1-e98b-cb536a670a79"
      },
      "outputs": [
        {
          "data": {
            "text/html": [
              "<style>#sk-container-id-1 {color: black;}#sk-container-id-1 pre{padding: 0;}#sk-container-id-1 div.sk-toggleable {background-color: white;}#sk-container-id-1 label.sk-toggleable__label {cursor: pointer;display: block;width: 100%;margin-bottom: 0;padding: 0.3em;box-sizing: border-box;text-align: center;}#sk-container-id-1 label.sk-toggleable__label-arrow:before {content: \"▸\";float: left;margin-right: 0.25em;color: #696969;}#sk-container-id-1 label.sk-toggleable__label-arrow:hover:before {color: black;}#sk-container-id-1 div.sk-estimator:hover label.sk-toggleable__label-arrow:before {color: black;}#sk-container-id-1 div.sk-toggleable__content {max-height: 0;max-width: 0;overflow: hidden;text-align: left;background-color: #f0f8ff;}#sk-container-id-1 div.sk-toggleable__content pre {margin: 0.2em;color: black;border-radius: 0.25em;background-color: #f0f8ff;}#sk-container-id-1 input.sk-toggleable__control:checked~div.sk-toggleable__content {max-height: 200px;max-width: 100%;overflow: auto;}#sk-container-id-1 input.sk-toggleable__control:checked~label.sk-toggleable__label-arrow:before {content: \"▾\";}#sk-container-id-1 div.sk-estimator input.sk-toggleable__control:checked~label.sk-toggleable__label {background-color: #d4ebff;}#sk-container-id-1 div.sk-label input.sk-toggleable__control:checked~label.sk-toggleable__label {background-color: #d4ebff;}#sk-container-id-1 input.sk-hidden--visually {border: 0;clip: rect(1px 1px 1px 1px);clip: rect(1px, 1px, 1px, 1px);height: 1px;margin: -1px;overflow: hidden;padding: 0;position: absolute;width: 1px;}#sk-container-id-1 div.sk-estimator {font-family: monospace;background-color: #f0f8ff;border: 1px dotted black;border-radius: 0.25em;box-sizing: border-box;margin-bottom: 0.5em;}#sk-container-id-1 div.sk-estimator:hover {background-color: #d4ebff;}#sk-container-id-1 div.sk-parallel-item::after {content: \"\";width: 100%;border-bottom: 1px solid gray;flex-grow: 1;}#sk-container-id-1 div.sk-label:hover label.sk-toggleable__label {background-color: #d4ebff;}#sk-container-id-1 div.sk-serial::before {content: \"\";position: absolute;border-left: 1px solid gray;box-sizing: border-box;top: 0;bottom: 0;left: 50%;z-index: 0;}#sk-container-id-1 div.sk-serial {display: flex;flex-direction: column;align-items: center;background-color: white;padding-right: 0.2em;padding-left: 0.2em;position: relative;}#sk-container-id-1 div.sk-item {position: relative;z-index: 1;}#sk-container-id-1 div.sk-parallel {display: flex;align-items: stretch;justify-content: center;background-color: white;position: relative;}#sk-container-id-1 div.sk-item::before, #sk-container-id-1 div.sk-parallel-item::before {content: \"\";position: absolute;border-left: 1px solid gray;box-sizing: border-box;top: 0;bottom: 0;left: 50%;z-index: -1;}#sk-container-id-1 div.sk-parallel-item {display: flex;flex-direction: column;z-index: 1;position: relative;background-color: white;}#sk-container-id-1 div.sk-parallel-item:first-child::after {align-self: flex-end;width: 50%;}#sk-container-id-1 div.sk-parallel-item:last-child::after {align-self: flex-start;width: 50%;}#sk-container-id-1 div.sk-parallel-item:only-child::after {width: 0;}#sk-container-id-1 div.sk-dashed-wrapped {border: 1px dashed gray;margin: 0 0.4em 0.5em 0.4em;box-sizing: border-box;padding-bottom: 0.4em;background-color: white;}#sk-container-id-1 div.sk-label label {font-family: monospace;font-weight: bold;display: inline-block;line-height: 1.2em;}#sk-container-id-1 div.sk-label-container {text-align: center;}#sk-container-id-1 div.sk-container {/* jupyter's `normalize.less` sets `[hidden] { display: none; }` but bootstrap.min.css set `[hidden] { display: none !important; }` so we also need the `!important` here to be able to override the default hidden behavior on the sphinx rendered scikit-learn.org. See: https://github.com/scikit-learn/scikit-learn/issues/21755 */display: inline-block !important;position: relative;}#sk-container-id-1 div.sk-text-repr-fallback {display: none;}</style><div id=\"sk-container-id-1\" class=\"sk-top-container\"><div class=\"sk-text-repr-fallback\"><pre>Pipeline(steps=[(&#x27;tfidfvectorizer&#x27;, TfidfVectorizer(max_features=512)),\n",
              "                (&#x27;robustscaler&#x27;, RobustScaler(with_centering=False)),\n",
              "                (&#x27;dummyclassifier&#x27;,\n",
              "                 DummyClassifier(random_state=256, strategy=&#x27;stratified&#x27;))])</pre><b>In a Jupyter environment, please rerun this cell to show the HTML representation or trust the notebook. <br />On GitHub, the HTML representation is unable to render, please try loading this page with nbviewer.org.</b></div><div class=\"sk-container\" hidden><div class=\"sk-item sk-dashed-wrapped\"><div class=\"sk-label-container\"><div class=\"sk-label sk-toggleable\"><input class=\"sk-toggleable__control sk-hidden--visually\" id=\"sk-estimator-id-1\" type=\"checkbox\" ><label for=\"sk-estimator-id-1\" class=\"sk-toggleable__label sk-toggleable__label-arrow\">Pipeline</label><div class=\"sk-toggleable__content\"><pre>Pipeline(steps=[(&#x27;tfidfvectorizer&#x27;, TfidfVectorizer(max_features=512)),\n",
              "                (&#x27;robustscaler&#x27;, RobustScaler(with_centering=False)),\n",
              "                (&#x27;dummyclassifier&#x27;,\n",
              "                 DummyClassifier(random_state=256, strategy=&#x27;stratified&#x27;))])</pre></div></div></div><div class=\"sk-serial\"><div class=\"sk-item\"><div class=\"sk-estimator sk-toggleable\"><input class=\"sk-toggleable__control sk-hidden--visually\" id=\"sk-estimator-id-2\" type=\"checkbox\" ><label for=\"sk-estimator-id-2\" class=\"sk-toggleable__label sk-toggleable__label-arrow\">TfidfVectorizer</label><div class=\"sk-toggleable__content\"><pre>TfidfVectorizer(max_features=512)</pre></div></div></div><div class=\"sk-item\"><div class=\"sk-estimator sk-toggleable\"><input class=\"sk-toggleable__control sk-hidden--visually\" id=\"sk-estimator-id-3\" type=\"checkbox\" ><label for=\"sk-estimator-id-3\" class=\"sk-toggleable__label sk-toggleable__label-arrow\">RobustScaler</label><div class=\"sk-toggleable__content\"><pre>RobustScaler(with_centering=False)</pre></div></div></div><div class=\"sk-item\"><div class=\"sk-estimator sk-toggleable\"><input class=\"sk-toggleable__control sk-hidden--visually\" id=\"sk-estimator-id-4\" type=\"checkbox\" ><label for=\"sk-estimator-id-4\" class=\"sk-toggleable__label sk-toggleable__label-arrow\">DummyClassifier</label><div class=\"sk-toggleable__content\"><pre>DummyClassifier(random_state=256, strategy=&#x27;stratified&#x27;)</pre></div></div></div></div></div></div></div>"
            ],
            "text/plain": [
              "Pipeline(steps=[('tfidfvectorizer', TfidfVectorizer(max_features=512)),\n",
              "                ('robustscaler', RobustScaler(with_centering=False)),\n",
              "                ('dummyclassifier',\n",
              "                 DummyClassifier(random_state=256, strategy='stratified'))])"
            ]
          },
          "execution_count": 7,
          "metadata": {},
          "output_type": "execute_result"
        }
      ],
      "source": [
        "dummy_pipe.fit(X_train, y_train)"
      ]
    },
    {
      "cell_type": "code",
      "execution_count": 8,
      "metadata": {
        "colab": {
          "base_uri": "https://localhost:8080/"
        },
        "id": "KbwmF7EENlNk",
        "outputId": "72c66951-0994-4db9-a881-10366a1bfe36"
      },
      "outputs": [
        {
          "name": "stdout",
          "output_type": "stream",
          "text": [
            "              precision    recall  f1-score   support\n",
            "\n",
            "           0       0.41      0.38      0.40        95\n",
            "           1       0.59      0.63      0.61       137\n",
            "\n",
            "    accuracy                           0.53       232\n",
            "   macro avg       0.50      0.50      0.50       232\n",
            "weighted avg       0.52      0.53      0.52       232\n",
            "\n"
          ]
        }
      ],
      "source": [
        "y_test_pred_dummy = dummy_pipe.predict(X_test)\n",
        "print(classification_report(y_test, y_test_pred_dummy))"
      ]
    },
    {
      "cell_type": "markdown",
      "metadata": {},
      "source": [
        "### 2 Model training\n",
        "#### 2.1 Logistic Regression"
      ]
    },
    {
      "cell_type": "code",
      "execution_count": 9,
      "metadata": {},
      "outputs": [
        {
          "name": "stdout",
          "output_type": "stream",
          "text": [
            "['logisticregression',\n",
            " 'logisticregression__C',\n",
            " 'logisticregression__class_weight',\n",
            " 'logisticregression__dual',\n",
            " 'logisticregression__fit_intercept',\n",
            " 'logisticregression__intercept_scaling',\n",
            " 'logisticregression__l1_ratio',\n",
            " 'logisticregression__max_iter',\n",
            " 'logisticregression__multi_class',\n",
            " 'logisticregression__n_jobs',\n",
            " 'logisticregression__penalty',\n",
            " 'logisticregression__random_state',\n",
            " 'logisticregression__solver',\n",
            " 'logisticregression__tol',\n",
            " 'logisticregression__verbose',\n",
            " 'logisticregression__warm_start',\n",
            " 'memory',\n",
            " 'robustscaler',\n",
            " 'robustscaler__copy',\n",
            " 'robustscaler__quantile_range',\n",
            " 'robustscaler__unit_variance',\n",
            " 'robustscaler__with_centering',\n",
            " 'robustscaler__with_scaling',\n",
            " 'steps',\n",
            " 'tfidfvectorizer',\n",
            " 'tfidfvectorizer__analyzer',\n",
            " 'tfidfvectorizer__binary',\n",
            " 'tfidfvectorizer__decode_error',\n",
            " 'tfidfvectorizer__dtype',\n",
            " 'tfidfvectorizer__encoding',\n",
            " 'tfidfvectorizer__input',\n",
            " 'tfidfvectorizer__lowercase',\n",
            " 'tfidfvectorizer__max_df',\n",
            " 'tfidfvectorizer__max_features',\n",
            " 'tfidfvectorizer__min_df',\n",
            " 'tfidfvectorizer__ngram_range',\n",
            " 'tfidfvectorizer__norm',\n",
            " 'tfidfvectorizer__preprocessor',\n",
            " 'tfidfvectorizer__smooth_idf',\n",
            " 'tfidfvectorizer__stop_words',\n",
            " 'tfidfvectorizer__strip_accents',\n",
            " 'tfidfvectorizer__sublinear_tf',\n",
            " 'tfidfvectorizer__token_pattern',\n",
            " 'tfidfvectorizer__tokenizer',\n",
            " 'tfidfvectorizer__use_idf',\n",
            " 'tfidfvectorizer__vocabulary',\n",
            " 'verbose']\n"
          ]
        }
      ],
      "source": [
        "pp.pprint(sorted(logreg_pipe.get_params().keys()))"
      ]
    },
    {
      "cell_type": "code",
      "execution_count": 10,
      "metadata": {},
      "outputs": [],
      "source": [
        "logreg_params = [{\n",
        "    \"tfidfvectorizer__ngram_range\": [(1,1), (1,2), (2,3)],\n",
        "    \"logisticregression__C\": [0.01, 0.1, 1.0, 10, 100],\n",
        "    \"logisticregression__class_weight\": [None, \"balanced\", c_weights],\n",
        "    \"logisticregression__solver\": [\"newton-cg\", \"saga\"]\n",
        "    }]"
      ]
    },
    {
      "cell_type": "code",
      "execution_count": 11,
      "metadata": {},
      "outputs": [
        {
          "name": "stdout",
          "output_type": "stream",
          "text": [
            "Fitting 10 folds for each of 90 candidates, totalling 900 fits\n"
          ]
        },
        {
          "data": {
            "text/html": [
              "<style>#sk-container-id-2 {color: black;}#sk-container-id-2 pre{padding: 0;}#sk-container-id-2 div.sk-toggleable {background-color: white;}#sk-container-id-2 label.sk-toggleable__label {cursor: pointer;display: block;width: 100%;margin-bottom: 0;padding: 0.3em;box-sizing: border-box;text-align: center;}#sk-container-id-2 label.sk-toggleable__label-arrow:before {content: \"▸\";float: left;margin-right: 0.25em;color: #696969;}#sk-container-id-2 label.sk-toggleable__label-arrow:hover:before {color: black;}#sk-container-id-2 div.sk-estimator:hover label.sk-toggleable__label-arrow:before {color: black;}#sk-container-id-2 div.sk-toggleable__content {max-height: 0;max-width: 0;overflow: hidden;text-align: left;background-color: #f0f8ff;}#sk-container-id-2 div.sk-toggleable__content pre {margin: 0.2em;color: black;border-radius: 0.25em;background-color: #f0f8ff;}#sk-container-id-2 input.sk-toggleable__control:checked~div.sk-toggleable__content {max-height: 200px;max-width: 100%;overflow: auto;}#sk-container-id-2 input.sk-toggleable__control:checked~label.sk-toggleable__label-arrow:before {content: \"▾\";}#sk-container-id-2 div.sk-estimator input.sk-toggleable__control:checked~label.sk-toggleable__label {background-color: #d4ebff;}#sk-container-id-2 div.sk-label input.sk-toggleable__control:checked~label.sk-toggleable__label {background-color: #d4ebff;}#sk-container-id-2 input.sk-hidden--visually {border: 0;clip: rect(1px 1px 1px 1px);clip: rect(1px, 1px, 1px, 1px);height: 1px;margin: -1px;overflow: hidden;padding: 0;position: absolute;width: 1px;}#sk-container-id-2 div.sk-estimator {font-family: monospace;background-color: #f0f8ff;border: 1px dotted black;border-radius: 0.25em;box-sizing: border-box;margin-bottom: 0.5em;}#sk-container-id-2 div.sk-estimator:hover {background-color: #d4ebff;}#sk-container-id-2 div.sk-parallel-item::after {content: \"\";width: 100%;border-bottom: 1px solid gray;flex-grow: 1;}#sk-container-id-2 div.sk-label:hover label.sk-toggleable__label {background-color: #d4ebff;}#sk-container-id-2 div.sk-serial::before {content: \"\";position: absolute;border-left: 1px solid gray;box-sizing: border-box;top: 0;bottom: 0;left: 50%;z-index: 0;}#sk-container-id-2 div.sk-serial {display: flex;flex-direction: column;align-items: center;background-color: white;padding-right: 0.2em;padding-left: 0.2em;position: relative;}#sk-container-id-2 div.sk-item {position: relative;z-index: 1;}#sk-container-id-2 div.sk-parallel {display: flex;align-items: stretch;justify-content: center;background-color: white;position: relative;}#sk-container-id-2 div.sk-item::before, #sk-container-id-2 div.sk-parallel-item::before {content: \"\";position: absolute;border-left: 1px solid gray;box-sizing: border-box;top: 0;bottom: 0;left: 50%;z-index: -1;}#sk-container-id-2 div.sk-parallel-item {display: flex;flex-direction: column;z-index: 1;position: relative;background-color: white;}#sk-container-id-2 div.sk-parallel-item:first-child::after {align-self: flex-end;width: 50%;}#sk-container-id-2 div.sk-parallel-item:last-child::after {align-self: flex-start;width: 50%;}#sk-container-id-2 div.sk-parallel-item:only-child::after {width: 0;}#sk-container-id-2 div.sk-dashed-wrapped {border: 1px dashed gray;margin: 0 0.4em 0.5em 0.4em;box-sizing: border-box;padding-bottom: 0.4em;background-color: white;}#sk-container-id-2 div.sk-label label {font-family: monospace;font-weight: bold;display: inline-block;line-height: 1.2em;}#sk-container-id-2 div.sk-label-container {text-align: center;}#sk-container-id-2 div.sk-container {/* jupyter's `normalize.less` sets `[hidden] { display: none; }` but bootstrap.min.css set `[hidden] { display: none !important; }` so we also need the `!important` here to be able to override the default hidden behavior on the sphinx rendered scikit-learn.org. See: https://github.com/scikit-learn/scikit-learn/issues/21755 */display: inline-block !important;position: relative;}#sk-container-id-2 div.sk-text-repr-fallback {display: none;}</style><div id=\"sk-container-id-2\" class=\"sk-top-container\"><div class=\"sk-text-repr-fallback\"><pre>GridSearchCV(cv=10,\n",
              "             estimator=Pipeline(steps=[(&#x27;tfidfvectorizer&#x27;,\n",
              "                                        TfidfVectorizer(max_features=512)),\n",
              "                                       (&#x27;robustscaler&#x27;,\n",
              "                                        RobustScaler(with_centering=False)),\n",
              "                                       (&#x27;logisticregression&#x27;,\n",
              "                                        LogisticRegression(max_iter=5120,\n",
              "                                                           random_state=256))]),\n",
              "             n_jobs=-1,\n",
              "             param_grid=[{&#x27;logisticregression__C&#x27;: [0.01, 0.1, 1.0, 10, 100],\n",
              "                          &#x27;logisticregression__class_weight&#x27;: [None, &#x27;balanced&#x27;,\n",
              "                                                               {0: 1.45,\n",
              "                                                                1: 1.0}],\n",
              "                          &#x27;logisticregression__solver&#x27;: [&#x27;newton-cg&#x27;, &#x27;saga&#x27;],\n",
              "                          &#x27;tfidfvectorizer__ngram_range&#x27;: [(1, 1), (1, 2),\n",
              "                                                           (2, 3)]}],\n",
              "             scoring=&#x27;f1_macro&#x27;, verbose=1)</pre><b>In a Jupyter environment, please rerun this cell to show the HTML representation or trust the notebook. <br />On GitHub, the HTML representation is unable to render, please try loading this page with nbviewer.org.</b></div><div class=\"sk-container\" hidden><div class=\"sk-item sk-dashed-wrapped\"><div class=\"sk-label-container\"><div class=\"sk-label sk-toggleable\"><input class=\"sk-toggleable__control sk-hidden--visually\" id=\"sk-estimator-id-5\" type=\"checkbox\" ><label for=\"sk-estimator-id-5\" class=\"sk-toggleable__label sk-toggleable__label-arrow\">GridSearchCV</label><div class=\"sk-toggleable__content\"><pre>GridSearchCV(cv=10,\n",
              "             estimator=Pipeline(steps=[(&#x27;tfidfvectorizer&#x27;,\n",
              "                                        TfidfVectorizer(max_features=512)),\n",
              "                                       (&#x27;robustscaler&#x27;,\n",
              "                                        RobustScaler(with_centering=False)),\n",
              "                                       (&#x27;logisticregression&#x27;,\n",
              "                                        LogisticRegression(max_iter=5120,\n",
              "                                                           random_state=256))]),\n",
              "             n_jobs=-1,\n",
              "             param_grid=[{&#x27;logisticregression__C&#x27;: [0.01, 0.1, 1.0, 10, 100],\n",
              "                          &#x27;logisticregression__class_weight&#x27;: [None, &#x27;balanced&#x27;,\n",
              "                                                               {0: 1.45,\n",
              "                                                                1: 1.0}],\n",
              "                          &#x27;logisticregression__solver&#x27;: [&#x27;newton-cg&#x27;, &#x27;saga&#x27;],\n",
              "                          &#x27;tfidfvectorizer__ngram_range&#x27;: [(1, 1), (1, 2),\n",
              "                                                           (2, 3)]}],\n",
              "             scoring=&#x27;f1_macro&#x27;, verbose=1)</pre></div></div></div><div class=\"sk-parallel\"><div class=\"sk-parallel-item\"><div class=\"sk-item\"><div class=\"sk-label-container\"><div class=\"sk-label sk-toggleable\"><input class=\"sk-toggleable__control sk-hidden--visually\" id=\"sk-estimator-id-6\" type=\"checkbox\" ><label for=\"sk-estimator-id-6\" class=\"sk-toggleable__label sk-toggleable__label-arrow\">estimator: Pipeline</label><div class=\"sk-toggleable__content\"><pre>Pipeline(steps=[(&#x27;tfidfvectorizer&#x27;, TfidfVectorizer(max_features=512)),\n",
              "                (&#x27;robustscaler&#x27;, RobustScaler(with_centering=False)),\n",
              "                (&#x27;logisticregression&#x27;,\n",
              "                 LogisticRegression(max_iter=5120, random_state=256))])</pre></div></div></div><div class=\"sk-serial\"><div class=\"sk-item\"><div class=\"sk-serial\"><div class=\"sk-item\"><div class=\"sk-estimator sk-toggleable\"><input class=\"sk-toggleable__control sk-hidden--visually\" id=\"sk-estimator-id-7\" type=\"checkbox\" ><label for=\"sk-estimator-id-7\" class=\"sk-toggleable__label sk-toggleable__label-arrow\">TfidfVectorizer</label><div class=\"sk-toggleable__content\"><pre>TfidfVectorizer(max_features=512)</pre></div></div></div><div class=\"sk-item\"><div class=\"sk-estimator sk-toggleable\"><input class=\"sk-toggleable__control sk-hidden--visually\" id=\"sk-estimator-id-8\" type=\"checkbox\" ><label for=\"sk-estimator-id-8\" class=\"sk-toggleable__label sk-toggleable__label-arrow\">RobustScaler</label><div class=\"sk-toggleable__content\"><pre>RobustScaler(with_centering=False)</pre></div></div></div><div class=\"sk-item\"><div class=\"sk-estimator sk-toggleable\"><input class=\"sk-toggleable__control sk-hidden--visually\" id=\"sk-estimator-id-9\" type=\"checkbox\" ><label for=\"sk-estimator-id-9\" class=\"sk-toggleable__label sk-toggleable__label-arrow\">LogisticRegression</label><div class=\"sk-toggleable__content\"><pre>LogisticRegression(max_iter=5120, random_state=256)</pre></div></div></div></div></div></div></div></div></div></div></div></div>"
            ],
            "text/plain": [
              "GridSearchCV(cv=10,\n",
              "             estimator=Pipeline(steps=[('tfidfvectorizer',\n",
              "                                        TfidfVectorizer(max_features=512)),\n",
              "                                       ('robustscaler',\n",
              "                                        RobustScaler(with_centering=False)),\n",
              "                                       ('logisticregression',\n",
              "                                        LogisticRegression(max_iter=5120,\n",
              "                                                           random_state=256))]),\n",
              "             n_jobs=-1,\n",
              "             param_grid=[{'logisticregression__C': [0.01, 0.1, 1.0, 10, 100],\n",
              "                          'logisticregression__class_weight': [None, 'balanced',\n",
              "                                                               {0: 1.45,\n",
              "                                                                1: 1.0}],\n",
              "                          'logisticregression__solver': ['newton-cg', 'saga'],\n",
              "                          'tfidfvectorizer__ngram_range': [(1, 1), (1, 2),\n",
              "                                                           (2, 3)]}],\n",
              "             scoring='f1_macro', verbose=1)"
            ]
          },
          "execution_count": 11,
          "metadata": {},
          "output_type": "execute_result"
        }
      ],
      "source": [
        "logreg_gs = GridSearchCV(logreg_pipe,\n",
        "                         logreg_params,\n",
        "                         cv=10,\n",
        "                         scoring='f1_macro',\n",
        "                         n_jobs=-1,\n",
        "                         refit=True,\n",
        "                         verbose=1)\n",
        "logreg_gs.fit(X_train, y_train)"
      ]
    },
    {
      "cell_type": "code",
      "execution_count": 12,
      "metadata": {},
      "outputs": [
        {
          "data": {
            "text/html": [
              "<style>#sk-container-id-3 {color: black;}#sk-container-id-3 pre{padding: 0;}#sk-container-id-3 div.sk-toggleable {background-color: white;}#sk-container-id-3 label.sk-toggleable__label {cursor: pointer;display: block;width: 100%;margin-bottom: 0;padding: 0.3em;box-sizing: border-box;text-align: center;}#sk-container-id-3 label.sk-toggleable__label-arrow:before {content: \"▸\";float: left;margin-right: 0.25em;color: #696969;}#sk-container-id-3 label.sk-toggleable__label-arrow:hover:before {color: black;}#sk-container-id-3 div.sk-estimator:hover label.sk-toggleable__label-arrow:before {color: black;}#sk-container-id-3 div.sk-toggleable__content {max-height: 0;max-width: 0;overflow: hidden;text-align: left;background-color: #f0f8ff;}#sk-container-id-3 div.sk-toggleable__content pre {margin: 0.2em;color: black;border-radius: 0.25em;background-color: #f0f8ff;}#sk-container-id-3 input.sk-toggleable__control:checked~div.sk-toggleable__content {max-height: 200px;max-width: 100%;overflow: auto;}#sk-container-id-3 input.sk-toggleable__control:checked~label.sk-toggleable__label-arrow:before {content: \"▾\";}#sk-container-id-3 div.sk-estimator input.sk-toggleable__control:checked~label.sk-toggleable__label {background-color: #d4ebff;}#sk-container-id-3 div.sk-label input.sk-toggleable__control:checked~label.sk-toggleable__label {background-color: #d4ebff;}#sk-container-id-3 input.sk-hidden--visually {border: 0;clip: rect(1px 1px 1px 1px);clip: rect(1px, 1px, 1px, 1px);height: 1px;margin: -1px;overflow: hidden;padding: 0;position: absolute;width: 1px;}#sk-container-id-3 div.sk-estimator {font-family: monospace;background-color: #f0f8ff;border: 1px dotted black;border-radius: 0.25em;box-sizing: border-box;margin-bottom: 0.5em;}#sk-container-id-3 div.sk-estimator:hover {background-color: #d4ebff;}#sk-container-id-3 div.sk-parallel-item::after {content: \"\";width: 100%;border-bottom: 1px solid gray;flex-grow: 1;}#sk-container-id-3 div.sk-label:hover label.sk-toggleable__label {background-color: #d4ebff;}#sk-container-id-3 div.sk-serial::before {content: \"\";position: absolute;border-left: 1px solid gray;box-sizing: border-box;top: 0;bottom: 0;left: 50%;z-index: 0;}#sk-container-id-3 div.sk-serial {display: flex;flex-direction: column;align-items: center;background-color: white;padding-right: 0.2em;padding-left: 0.2em;position: relative;}#sk-container-id-3 div.sk-item {position: relative;z-index: 1;}#sk-container-id-3 div.sk-parallel {display: flex;align-items: stretch;justify-content: center;background-color: white;position: relative;}#sk-container-id-3 div.sk-item::before, #sk-container-id-3 div.sk-parallel-item::before {content: \"\";position: absolute;border-left: 1px solid gray;box-sizing: border-box;top: 0;bottom: 0;left: 50%;z-index: -1;}#sk-container-id-3 div.sk-parallel-item {display: flex;flex-direction: column;z-index: 1;position: relative;background-color: white;}#sk-container-id-3 div.sk-parallel-item:first-child::after {align-self: flex-end;width: 50%;}#sk-container-id-3 div.sk-parallel-item:last-child::after {align-self: flex-start;width: 50%;}#sk-container-id-3 div.sk-parallel-item:only-child::after {width: 0;}#sk-container-id-3 div.sk-dashed-wrapped {border: 1px dashed gray;margin: 0 0.4em 0.5em 0.4em;box-sizing: border-box;padding-bottom: 0.4em;background-color: white;}#sk-container-id-3 div.sk-label label {font-family: monospace;font-weight: bold;display: inline-block;line-height: 1.2em;}#sk-container-id-3 div.sk-label-container {text-align: center;}#sk-container-id-3 div.sk-container {/* jupyter's `normalize.less` sets `[hidden] { display: none; }` but bootstrap.min.css set `[hidden] { display: none !important; }` so we also need the `!important` here to be able to override the default hidden behavior on the sphinx rendered scikit-learn.org. See: https://github.com/scikit-learn/scikit-learn/issues/21755 */display: inline-block !important;position: relative;}#sk-container-id-3 div.sk-text-repr-fallback {display: none;}</style><div id=\"sk-container-id-3\" class=\"sk-top-container\"><div class=\"sk-text-repr-fallback\"><pre>Pipeline(steps=[(&#x27;tfidfvectorizer&#x27;, TfidfVectorizer(max_features=512)),\n",
              "                (&#x27;robustscaler&#x27;, RobustScaler(with_centering=False)),\n",
              "                (&#x27;logisticregression&#x27;,\n",
              "                 LogisticRegression(C=10, class_weight={0: 1.45, 1: 1.0},\n",
              "                                    max_iter=5120, random_state=256,\n",
              "                                    solver=&#x27;saga&#x27;))])</pre><b>In a Jupyter environment, please rerun this cell to show the HTML representation or trust the notebook. <br />On GitHub, the HTML representation is unable to render, please try loading this page with nbviewer.org.</b></div><div class=\"sk-container\" hidden><div class=\"sk-item sk-dashed-wrapped\"><div class=\"sk-label-container\"><div class=\"sk-label sk-toggleable\"><input class=\"sk-toggleable__control sk-hidden--visually\" id=\"sk-estimator-id-10\" type=\"checkbox\" ><label for=\"sk-estimator-id-10\" class=\"sk-toggleable__label sk-toggleable__label-arrow\">Pipeline</label><div class=\"sk-toggleable__content\"><pre>Pipeline(steps=[(&#x27;tfidfvectorizer&#x27;, TfidfVectorizer(max_features=512)),\n",
              "                (&#x27;robustscaler&#x27;, RobustScaler(with_centering=False)),\n",
              "                (&#x27;logisticregression&#x27;,\n",
              "                 LogisticRegression(C=10, class_weight={0: 1.45, 1: 1.0},\n",
              "                                    max_iter=5120, random_state=256,\n",
              "                                    solver=&#x27;saga&#x27;))])</pre></div></div></div><div class=\"sk-serial\"><div class=\"sk-item\"><div class=\"sk-estimator sk-toggleable\"><input class=\"sk-toggleable__control sk-hidden--visually\" id=\"sk-estimator-id-11\" type=\"checkbox\" ><label for=\"sk-estimator-id-11\" class=\"sk-toggleable__label sk-toggleable__label-arrow\">TfidfVectorizer</label><div class=\"sk-toggleable__content\"><pre>TfidfVectorizer(max_features=512)</pre></div></div></div><div class=\"sk-item\"><div class=\"sk-estimator sk-toggleable\"><input class=\"sk-toggleable__control sk-hidden--visually\" id=\"sk-estimator-id-12\" type=\"checkbox\" ><label for=\"sk-estimator-id-12\" class=\"sk-toggleable__label sk-toggleable__label-arrow\">RobustScaler</label><div class=\"sk-toggleable__content\"><pre>RobustScaler(with_centering=False)</pre></div></div></div><div class=\"sk-item\"><div class=\"sk-estimator sk-toggleable\"><input class=\"sk-toggleable__control sk-hidden--visually\" id=\"sk-estimator-id-13\" type=\"checkbox\" ><label for=\"sk-estimator-id-13\" class=\"sk-toggleable__label sk-toggleable__label-arrow\">LogisticRegression</label><div class=\"sk-toggleable__content\"><pre>LogisticRegression(C=10, class_weight={0: 1.45, 1: 1.0}, max_iter=5120,\n",
              "                   random_state=256, solver=&#x27;saga&#x27;)</pre></div></div></div></div></div></div></div>"
            ],
            "text/plain": [
              "Pipeline(steps=[('tfidfvectorizer', TfidfVectorizer(max_features=512)),\n",
              "                ('robustscaler', RobustScaler(with_centering=False)),\n",
              "                ('logisticregression',\n",
              "                 LogisticRegression(C=10, class_weight={0: 1.45, 1: 1.0},\n",
              "                                    max_iter=5120, random_state=256,\n",
              "                                    solver='saga'))])"
            ]
          },
          "execution_count": 12,
          "metadata": {},
          "output_type": "execute_result"
        }
      ],
      "source": [
        "logreg_gs.best_estimator_"
      ]
    },
    {
      "cell_type": "code",
      "execution_count": 13,
      "metadata": {},
      "outputs": [
        {
          "data": {
            "text/plain": [
              "0.9336180959651946"
            ]
          },
          "execution_count": 13,
          "metadata": {},
          "output_type": "execute_result"
        }
      ],
      "source": [
        "logreg_gs.best_score_"
      ]
    },
    {
      "cell_type": "code",
      "execution_count": 14,
      "metadata": {},
      "outputs": [
        {
          "name": "stdout",
          "output_type": "stream",
          "text": [
            "              precision    recall  f1-score   support\n",
            "\n",
            "           0       0.88      0.89      0.89        95\n",
            "           1       0.93      0.91      0.92       137\n",
            "\n",
            "    accuracy                           0.91       232\n",
            "   macro avg       0.90      0.90      0.90       232\n",
            "weighted avg       0.91      0.91      0.91       232\n",
            "\n"
          ]
        },
        {
          "data": {
            "image/png": "[encoded data removed]",
            "text/plain": [
              "<Figure size 640x480 with 2 Axes>"
            ]
          },
          "metadata": {},
          "output_type": "display_data"
        }
      ],
      "source": [
        "y_test_pred_logreg = logreg_gs.predict(X_test)\n",
        "print(classification_report(y_test, y_test_pred_logreg))\n",
        "ConfusionMatrixDisplay.from_predictions(y_test, y_test_pred_logreg);"
      ]
    },
    {
      "cell_type": "code",
      "execution_count": 15,
      "metadata": {},
      "outputs": [],
      "source": [
        "# create a new dataframe that shows the performance of the model\n",
        "# the true and predicted labels will be shown side-to-side,\n",
        "# and a third column will display whether the model did a correct prediction,\n",
        "# displaying \"incorrect\" if the values of the \"true label\" and \"predicted label\"\n",
        "# differ from one another\n",
        "# for readability, the encoded labels will be reverted back to their original\n",
        "# values (DC Comics and Marvel Comics)\n",
        "\n",
        "results_logreg = pd.DataFrame({\"hist_text_classic\": X_test, \n",
        "                              \"true_label\": y_test,\n",
        "                              \"predicted_label\": y_test_pred_logreg,\n",
        "                              \"result\": [\"Correct\" if true == pred else \"Incorrect\" for true, pred in zip(y_test, y_test_pred_logreg)],\n",
        "                              \"n_words\": [len(text.split()) for text in X_test]\n",
        "                              })\n",
        "\n",
        "results_logreg.true_label.replace({0: \"DC Comics\", 1: \"Marvel Comics\"}, inplace=True)\n",
        "results_logreg.predicted_label.replace({0: \"DC Comics\", 1: \"Marvel Comics\"}, inplace=True)"
      ]
    },
    {
      "cell_type": "code",
      "execution_count": 16,
      "metadata": {},
      "outputs": [],
      "source": [
        "results_logreg.to_csv(\"data/error_logreg.csv\",\n",
        "                      index=False)"
      ]
    },
    {
      "cell_type": "markdown",
      "metadata": {},
      "source": [
        "#### 2.2 K-Nearest Neighbours"
      ]
    },
    {
      "cell_type": "code",
      "execution_count": 17,
      "metadata": {
        "colab": {
          "base_uri": "https://localhost:8080/"
        },
        "id": "-0GQpTfQGebp",
        "outputId": "1c6ddfef-6fcc-480e-b820-ea003f9e544b"
      },
      "outputs": [
        {
          "name": "stdout",
          "output_type": "stream",
          "text": [
            "['kneighborsclassifier',\n",
            " 'kneighborsclassifier__algorithm',\n",
            " 'kneighborsclassifier__leaf_size',\n",
            " 'kneighborsclassifier__metric',\n",
            " 'kneighborsclassifier__metric_params',\n",
            " 'kneighborsclassifier__n_jobs',\n",
            " 'kneighborsclassifier__n_neighbors',\n",
            " 'kneighborsclassifier__p',\n",
            " 'kneighborsclassifier__weights',\n",
            " 'memory',\n",
            " 'robustscaler',\n",
            " 'robustscaler__copy',\n",
            " 'robustscaler__quantile_range',\n",
            " 'robustscaler__unit_variance',\n",
            " 'robustscaler__with_centering',\n",
            " 'robustscaler__with_scaling',\n",
            " 'steps',\n",
            " 'tfidfvectorizer',\n",
            " 'tfidfvectorizer__analyzer',\n",
            " 'tfidfvectorizer__binary',\n",
            " 'tfidfvectorizer__decode_error',\n",
            " 'tfidfvectorizer__dtype',\n",
            " 'tfidfvectorizer__encoding',\n",
            " 'tfidfvectorizer__input',\n",
            " 'tfidfvectorizer__lowercase',\n",
            " 'tfidfvectorizer__max_df',\n",
            " 'tfidfvectorizer__max_features',\n",
            " 'tfidfvectorizer__min_df',\n",
            " 'tfidfvectorizer__ngram_range',\n",
            " 'tfidfvectorizer__norm',\n",
            " 'tfidfvectorizer__preprocessor',\n",
            " 'tfidfvectorizer__smooth_idf',\n",
            " 'tfidfvectorizer__stop_words',\n",
            " 'tfidfvectorizer__strip_accents',\n",
            " 'tfidfvectorizer__sublinear_tf',\n",
            " 'tfidfvectorizer__token_pattern',\n",
            " 'tfidfvectorizer__tokenizer',\n",
            " 'tfidfvectorizer__use_idf',\n",
            " 'tfidfvectorizer__vocabulary',\n",
            " 'verbose']\n"
          ]
        }
      ],
      "source": [
        "pp.pprint(sorted(knn_pipe.get_params().keys()))"
      ]
    },
    {
      "cell_type": "code",
      "execution_count": 18,
      "metadata": {
        "id": "jFsSpyI8Glx9"
      },
      "outputs": [],
      "source": [
        "knn_params = [{\n",
        "    \"tfidfvectorizer__ngram_range\": [(1, 1), (1, 2), (2,3)],\n",
        "    \"kneighborsclassifier__metric\": [\"cosine\", \"euclidean\", \"manhattan\"],\n",
        "    \"kneighborsclassifier__n_neighbors\": [1, 2, 3, 5, 7],\n",
        "    \"kneighborsclassifier__weights\": [\"uniform\", \"distance\"]\n",
        "    }]"
      ]
    },
    {
      "cell_type": "code",
      "execution_count": 19,
      "metadata": {
        "colab": {
          "base_uri": "https://localhost:8080/",
          "height": 180
        },
        "id": "kv9ft50-I8sq",
        "outputId": "0ac3e640-db0d-4b84-99e2-96ff342498f5"
      },
      "outputs": [
        {
          "name": "stdout",
          "output_type": "stream",
          "text": [
            "Fitting 10 folds for each of 90 candidates, totalling 900 fits\n"
          ]
        },
        {
          "data": {
            "text/html": [
              "<style>#sk-container-id-4 {color: black;}#sk-container-id-4 pre{padding: 0;}#sk-container-id-4 div.sk-toggleable {background-color: white;}#sk-container-id-4 label.sk-toggleable__label {cursor: pointer;display: block;width: 100%;margin-bottom: 0;padding: 0.3em;box-sizing: border-box;text-align: center;}#sk-container-id-4 label.sk-toggleable__label-arrow:before {content: \"▸\";float: left;margin-right: 0.25em;color: #696969;}#sk-container-id-4 label.sk-toggleable__label-arrow:hover:before {color: black;}#sk-container-id-4 div.sk-estimator:hover label.sk-toggleable__label-arrow:before {color: black;}#sk-container-id-4 div.sk-toggleable__content {max-height: 0;max-width: 0;overflow: hidden;text-align: left;background-color: #f0f8ff;}#sk-container-id-4 div.sk-toggleable__content pre {margin: 0.2em;color: black;border-radius: 0.25em;background-color: #f0f8ff;}#sk-container-id-4 input.sk-toggleable__control:checked~div.sk-toggleable__content {max-height: 200px;max-width: 100%;overflow: auto;}#sk-container-id-4 input.sk-toggleable__control:checked~label.sk-toggleable__label-arrow:before {content: \"▾\";}#sk-container-id-4 div.sk-estimator input.sk-toggleable__control:checked~label.sk-toggleable__label {background-color: #d4ebff;}#sk-container-id-4 div.sk-label input.sk-toggleable__control:checked~label.sk-toggleable__label {background-color: #d4ebff;}#sk-container-id-4 input.sk-hidden--visually {border: 0;clip: rect(1px 1px 1px 1px);clip: rect(1px, 1px, 1px, 1px);height: 1px;margin: -1px;overflow: hidden;padding: 0;position: absolute;width: 1px;}#sk-container-id-4 div.sk-estimator {font-family: monospace;background-color: #f0f8ff;border: 1px dotted black;border-radius: 0.25em;box-sizing: border-box;margin-bottom: 0.5em;}#sk-container-id-4 div.sk-estimator:hover {background-color: #d4ebff;}#sk-container-id-4 div.sk-parallel-item::after {content: \"\";width: 100%;border-bottom: 1px solid gray;flex-grow: 1;}#sk-container-id-4 div.sk-label:hover label.sk-toggleable__label {background-color: #d4ebff;}#sk-container-id-4 div.sk-serial::before {content: \"\";position: absolute;border-left: 1px solid gray;box-sizing: border-box;top: 0;bottom: 0;left: 50%;z-index: 0;}#sk-container-id-4 div.sk-serial {display: flex;flex-direction: column;align-items: center;background-color: white;padding-right: 0.2em;padding-left: 0.2em;position: relative;}#sk-container-id-4 div.sk-item {position: relative;z-index: 1;}#sk-container-id-4 div.sk-parallel {display: flex;align-items: stretch;justify-content: center;background-color: white;position: relative;}#sk-container-id-4 div.sk-item::before, #sk-container-id-4 div.sk-parallel-item::before {content: \"\";position: absolute;border-left: 1px solid gray;box-sizing: border-box;top: 0;bottom: 0;left: 50%;z-index: -1;}#sk-container-id-4 div.sk-parallel-item {display: flex;flex-direction: column;z-index: 1;position: relative;background-color: white;}#sk-container-id-4 div.sk-parallel-item:first-child::after {align-self: flex-end;width: 50%;}#sk-container-id-4 div.sk-parallel-item:last-child::after {align-self: flex-start;width: 50%;}#sk-container-id-4 div.sk-parallel-item:only-child::after {width: 0;}#sk-container-id-4 div.sk-dashed-wrapped {border: 1px dashed gray;margin: 0 0.4em 0.5em 0.4em;box-sizing: border-box;padding-bottom: 0.4em;background-color: white;}#sk-container-id-4 div.sk-label label {font-family: monospace;font-weight: bold;display: inline-block;line-height: 1.2em;}#sk-container-id-4 div.sk-label-container {text-align: center;}#sk-container-id-4 div.sk-container {/* jupyter's `normalize.less` sets `[hidden] { display: none; }` but bootstrap.min.css set `[hidden] { display: none !important; }` so we also need the `!important` here to be able to override the default hidden behavior on the sphinx rendered scikit-learn.org. See: https://github.com/scikit-learn/scikit-learn/issues/21755 */display: inline-block !important;position: relative;}#sk-container-id-4 div.sk-text-repr-fallback {display: none;}</style><div id=\"sk-container-id-4\" class=\"sk-top-container\"><div class=\"sk-text-repr-fallback\"><pre>GridSearchCV(cv=10,\n",
              "             estimator=Pipeline(steps=[(&#x27;tfidfvectorizer&#x27;,\n",
              "                                        TfidfVectorizer(max_features=512)),\n",
              "                                       (&#x27;robustscaler&#x27;,\n",
              "                                        RobustScaler(with_centering=False)),\n",
              "                                       (&#x27;kneighborsclassifier&#x27;,\n",
              "                                        KNeighborsClassifier())]),\n",
              "             n_jobs=-1,\n",
              "             param_grid=[{&#x27;kneighborsclassifier__metric&#x27;: [&#x27;cosine&#x27;,\n",
              "                                                           &#x27;euclidean&#x27;,\n",
              "                                                           &#x27;manhattan&#x27;],\n",
              "                          &#x27;kneighborsclassifier__n_neighbors&#x27;: [1, 2, 3, 5, 7],\n",
              "                          &#x27;kneighborsclassifier__weights&#x27;: [&#x27;uniform&#x27;,\n",
              "                                                            &#x27;distance&#x27;],\n",
              "                          &#x27;tfidfvectorizer__ngram_range&#x27;: [(1, 1), (1, 2),\n",
              "                                                           (2, 3)]}],\n",
              "             scoring=&#x27;f1_macro&#x27;, verbose=1)</pre><b>In a Jupyter environment, please rerun this cell to show the HTML representation or trust the notebook. <br />On GitHub, the HTML representation is unable to render, please try loading this page with nbviewer.org.</b></div><div class=\"sk-container\" hidden><div class=\"sk-item sk-dashed-wrapped\"><div class=\"sk-label-container\"><div class=\"sk-label sk-toggleable\"><input class=\"sk-toggleable__control sk-hidden--visually\" id=\"sk-estimator-id-14\" type=\"checkbox\" ><label for=\"sk-estimator-id-14\" class=\"sk-toggleable__label sk-toggleable__label-arrow\">GridSearchCV</label><div class=\"sk-toggleable__content\"><pre>GridSearchCV(cv=10,\n",
              "             estimator=Pipeline(steps=[(&#x27;tfidfvectorizer&#x27;,\n",
              "                                        TfidfVectorizer(max_features=512)),\n",
              "                                       (&#x27;robustscaler&#x27;,\n",
              "                                        RobustScaler(with_centering=False)),\n",
              "                                       (&#x27;kneighborsclassifier&#x27;,\n",
              "                                        KNeighborsClassifier())]),\n",
              "             n_jobs=-1,\n",
              "             param_grid=[{&#x27;kneighborsclassifier__metric&#x27;: [&#x27;cosine&#x27;,\n",
              "                                                           &#x27;euclidean&#x27;,\n",
              "                                                           &#x27;manhattan&#x27;],\n",
              "                          &#x27;kneighborsclassifier__n_neighbors&#x27;: [1, 2, 3, 5, 7],\n",
              "                          &#x27;kneighborsclassifier__weights&#x27;: [&#x27;uniform&#x27;,\n",
              "                                                            &#x27;distance&#x27;],\n",
              "                          &#x27;tfidfvectorizer__ngram_range&#x27;: [(1, 1), (1, 2),\n",
              "                                                           (2, 3)]}],\n",
              "             scoring=&#x27;f1_macro&#x27;, verbose=1)</pre></div></div></div><div class=\"sk-parallel\"><div class=\"sk-parallel-item\"><div class=\"sk-item\"><div class=\"sk-label-container\"><div class=\"sk-label sk-toggleable\"><input class=\"sk-toggleable__control sk-hidden--visually\" id=\"sk-estimator-id-15\" type=\"checkbox\" ><label for=\"sk-estimator-id-15\" class=\"sk-toggleable__label sk-toggleable__label-arrow\">estimator: Pipeline</label><div class=\"sk-toggleable__content\"><pre>Pipeline(steps=[(&#x27;tfidfvectorizer&#x27;, TfidfVectorizer(max_features=512)),\n",
              "                (&#x27;robustscaler&#x27;, RobustScaler(with_centering=False)),\n",
              "                (&#x27;kneighborsclassifier&#x27;, KNeighborsClassifier())])</pre></div></div></div><div class=\"sk-serial\"><div class=\"sk-item\"><div class=\"sk-serial\"><div class=\"sk-item\"><div class=\"sk-estimator sk-toggleable\"><input class=\"sk-toggleable__control sk-hidden--visually\" id=\"sk-estimator-id-16\" type=\"checkbox\" ><label for=\"sk-estimator-id-16\" class=\"sk-toggleable__label sk-toggleable__label-arrow\">TfidfVectorizer</label><div class=\"sk-toggleable__content\"><pre>TfidfVectorizer(max_features=512)</pre></div></div></div><div class=\"sk-item\"><div class=\"sk-estimator sk-toggleable\"><input class=\"sk-toggleable__control sk-hidden--visually\" id=\"sk-estimator-id-17\" type=\"checkbox\" ><label for=\"sk-estimator-id-17\" class=\"sk-toggleable__label sk-toggleable__label-arrow\">RobustScaler</label><div class=\"sk-toggleable__content\"><pre>RobustScaler(with_centering=False)</pre></div></div></div><div class=\"sk-item\"><div class=\"sk-estimator sk-toggleable\"><input class=\"sk-toggleable__control sk-hidden--visually\" id=\"sk-estimator-id-18\" type=\"checkbox\" ><label for=\"sk-estimator-id-18\" class=\"sk-toggleable__label sk-toggleable__label-arrow\">KNeighborsClassifier</label><div class=\"sk-toggleable__content\"><pre>KNeighborsClassifier()</pre></div></div></div></div></div></div></div></div></div></div></div></div>"
            ],
            "text/plain": [
              "GridSearchCV(cv=10,\n",
              "             estimator=Pipeline(steps=[('tfidfvectorizer',\n",
              "                                        TfidfVectorizer(max_features=512)),\n",
              "                                       ('robustscaler',\n",
              "                                        RobustScaler(with_centering=False)),\n",
              "                                       ('kneighborsclassifier',\n",
              "                                        KNeighborsClassifier())]),\n",
              "             n_jobs=-1,\n",
              "             param_grid=[{'kneighborsclassifier__metric': ['cosine',\n",
              "                                                           'euclidean',\n",
              "                                                           'manhattan'],\n",
              "                          'kneighborsclassifier__n_neighbors': [1, 2, 3, 5, 7],\n",
              "                          'kneighborsclassifier__weights': ['uniform',\n",
              "                                                            'distance'],\n",
              "                          'tfidfvectorizer__ngram_range': [(1, 1), (1, 2),\n",
              "                                                           (2, 3)]}],\n",
              "             scoring='f1_macro', verbose=1)"
            ]
          },
          "execution_count": 19,
          "metadata": {},
          "output_type": "execute_result"
        }
      ],
      "source": [
        "knn_gs = GridSearchCV(knn_pipe,\n",
        "                      knn_params,\n",
        "                      cv=10,\n",
        "                      scoring='f1_macro',\n",
        "                      n_jobs=-1,\n",
        "                      refit=True,\n",
        "                      verbose=1)\n",
        "knn_gs.fit(X_train, y_train)"
      ]
    },
    {
      "cell_type": "code",
      "execution_count": 20,
      "metadata": {
        "colab": {
          "base_uri": "https://localhost:8080/",
          "height": 161
        },
        "id": "qcTVoWrTKPuz",
        "outputId": "6ec7ec4f-4979-4b7e-a5f2-8cbe635fe219"
      },
      "outputs": [
        {
          "data": {
            "text/html": [
              "<style>#sk-container-id-5 {color: black;}#sk-container-id-5 pre{padding: 0;}#sk-container-id-5 div.sk-toggleable {background-color: white;}#sk-container-id-5 label.sk-toggleable__label {cursor: pointer;display: block;width: 100%;margin-bottom: 0;padding: 0.3em;box-sizing: border-box;text-align: center;}#sk-container-id-5 label.sk-toggleable__label-arrow:before {content: \"▸\";float: left;margin-right: 0.25em;color: #696969;}#sk-container-id-5 label.sk-toggleable__label-arrow:hover:before {color: black;}#sk-container-id-5 div.sk-estimator:hover label.sk-toggleable__label-arrow:before {color: black;}#sk-container-id-5 div.sk-toggleable__content {max-height: 0;max-width: 0;overflow: hidden;text-align: left;background-color: #f0f8ff;}#sk-container-id-5 div.sk-toggleable__content pre {margin: 0.2em;color: black;border-radius: 0.25em;background-color: #f0f8ff;}#sk-container-id-5 input.sk-toggleable__control:checked~div.sk-toggleable__content {max-height: 200px;max-width: 100%;overflow: auto;}#sk-container-id-5 input.sk-toggleable__control:checked~label.sk-toggleable__label-arrow:before {content: \"▾\";}#sk-container-id-5 div.sk-estimator input.sk-toggleable__control:checked~label.sk-toggleable__label {background-color: #d4ebff;}#sk-container-id-5 div.sk-label input.sk-toggleable__control:checked~label.sk-toggleable__label {background-color: #d4ebff;}#sk-container-id-5 input.sk-hidden--visually {border: 0;clip: rect(1px 1px 1px 1px);clip: rect(1px, 1px, 1px, 1px);height: 1px;margin: -1px;overflow: hidden;padding: 0;position: absolute;width: 1px;}#sk-container-id-5 div.sk-estimator {font-family: monospace;background-color: #f0f8ff;border: 1px dotted black;border-radius: 0.25em;box-sizing: border-box;margin-bottom: 0.5em;}#sk-container-id-5 div.sk-estimator:hover {background-color: #d4ebff;}#sk-container-id-5 div.sk-parallel-item::after {content: \"\";width: 100%;border-bottom: 1px solid gray;flex-grow: 1;}#sk-container-id-5 div.sk-label:hover label.sk-toggleable__label {background-color: #d4ebff;}#sk-container-id-5 div.sk-serial::before {content: \"\";position: absolute;border-left: 1px solid gray;box-sizing: border-box;top: 0;bottom: 0;left: 50%;z-index: 0;}#sk-container-id-5 div.sk-serial {display: flex;flex-direction: column;align-items: center;background-color: white;padding-right: 0.2em;padding-left: 0.2em;position: relative;}#sk-container-id-5 div.sk-item {position: relative;z-index: 1;}#sk-container-id-5 div.sk-parallel {display: flex;align-items: stretch;justify-content: center;background-color: white;position: relative;}#sk-container-id-5 div.sk-item::before, #sk-container-id-5 div.sk-parallel-item::before {content: \"\";position: absolute;border-left: 1px solid gray;box-sizing: border-box;top: 0;bottom: 0;left: 50%;z-index: -1;}#sk-container-id-5 div.sk-parallel-item {display: flex;flex-direction: column;z-index: 1;position: relative;background-color: white;}#sk-container-id-5 div.sk-parallel-item:first-child::after {align-self: flex-end;width: 50%;}#sk-container-id-5 div.sk-parallel-item:last-child::after {align-self: flex-start;width: 50%;}#sk-container-id-5 div.sk-parallel-item:only-child::after {width: 0;}#sk-container-id-5 div.sk-dashed-wrapped {border: 1px dashed gray;margin: 0 0.4em 0.5em 0.4em;box-sizing: border-box;padding-bottom: 0.4em;background-color: white;}#sk-container-id-5 div.sk-label label {font-family: monospace;font-weight: bold;display: inline-block;line-height: 1.2em;}#sk-container-id-5 div.sk-label-container {text-align: center;}#sk-container-id-5 div.sk-container {/* jupyter's `normalize.less` sets `[hidden] { display: none; }` but bootstrap.min.css set `[hidden] { display: none !important; }` so we also need the `!important` here to be able to override the default hidden behavior on the sphinx rendered scikit-learn.org. See: https://github.com/scikit-learn/scikit-learn/issues/21755 */display: inline-block !important;position: relative;}#sk-container-id-5 div.sk-text-repr-fallback {display: none;}</style><div id=\"sk-container-id-5\" class=\"sk-top-container\"><div class=\"sk-text-repr-fallback\"><pre>Pipeline(steps=[(&#x27;tfidfvectorizer&#x27;,\n",
              "                 TfidfVectorizer(max_features=512, ngram_range=(2, 3))),\n",
              "                (&#x27;robustscaler&#x27;, RobustScaler(with_centering=False)),\n",
              "                (&#x27;kneighborsclassifier&#x27;,\n",
              "                 KNeighborsClassifier(metric=&#x27;cosine&#x27;, n_neighbors=7))])</pre><b>In a Jupyter environment, please rerun this cell to show the HTML representation or trust the notebook. <br />On GitHub, the HTML representation is unable to render, please try loading this page with nbviewer.org.</b></div><div class=\"sk-container\" hidden><div class=\"sk-item sk-dashed-wrapped\"><div class=\"sk-label-container\"><div class=\"sk-label sk-toggleable\"><input class=\"sk-toggleable__control sk-hidden--visually\" id=\"sk-estimator-id-19\" type=\"checkbox\" ><label for=\"sk-estimator-id-19\" class=\"sk-toggleable__label sk-toggleable__label-arrow\">Pipeline</label><div class=\"sk-toggleable__content\"><pre>Pipeline(steps=[(&#x27;tfidfvectorizer&#x27;,\n",
              "                 TfidfVectorizer(max_features=512, ngram_range=(2, 3))),\n",
              "                (&#x27;robustscaler&#x27;, RobustScaler(with_centering=False)),\n",
              "                (&#x27;kneighborsclassifier&#x27;,\n",
              "                 KNeighborsClassifier(metric=&#x27;cosine&#x27;, n_neighbors=7))])</pre></div></div></div><div class=\"sk-serial\"><div class=\"sk-item\"><div class=\"sk-estimator sk-toggleable\"><input class=\"sk-toggleable__control sk-hidden--visually\" id=\"sk-estimator-id-20\" type=\"checkbox\" ><label for=\"sk-estimator-id-20\" class=\"sk-toggleable__label sk-toggleable__label-arrow\">TfidfVectorizer</label><div class=\"sk-toggleable__content\"><pre>TfidfVectorizer(max_features=512, ngram_range=(2, 3))</pre></div></div></div><div class=\"sk-item\"><div class=\"sk-estimator sk-toggleable\"><input class=\"sk-toggleable__control sk-hidden--visually\" id=\"sk-estimator-id-21\" type=\"checkbox\" ><label for=\"sk-estimator-id-21\" class=\"sk-toggleable__label sk-toggleable__label-arrow\">RobustScaler</label><div class=\"sk-toggleable__content\"><pre>RobustScaler(with_centering=False)</pre></div></div></div><div class=\"sk-item\"><div class=\"sk-estimator sk-toggleable\"><input class=\"sk-toggleable__control sk-hidden--visually\" id=\"sk-estimator-id-22\" type=\"checkbox\" ><label for=\"sk-estimator-id-22\" class=\"sk-toggleable__label sk-toggleable__label-arrow\">KNeighborsClassifier</label><div class=\"sk-toggleable__content\"><pre>KNeighborsClassifier(metric=&#x27;cosine&#x27;, n_neighbors=7)</pre></div></div></div></div></div></div></div>"
            ],
            "text/plain": [
              "Pipeline(steps=[('tfidfvectorizer',\n",
              "                 TfidfVectorizer(max_features=512, ngram_range=(2, 3))),\n",
              "                ('robustscaler', RobustScaler(with_centering=False)),\n",
              "                ('kneighborsclassifier',\n",
              "                 KNeighborsClassifier(metric='cosine', n_neighbors=7))])"
            ]
          },
          "execution_count": 20,
          "metadata": {},
          "output_type": "execute_result"
        }
      ],
      "source": [
        "knn_gs.best_estimator_"
      ]
    },
    {
      "cell_type": "code",
      "execution_count": 21,
      "metadata": {
        "colab": {
          "base_uri": "https://localhost:8080/"
        },
        "id": "IdjWfuQrKbsM",
        "outputId": "0d55df28-d4d0-49d3-9194-aa74575fa8f2"
      },
      "outputs": [
        {
          "data": {
            "text/plain": [
              "0.89171749127019"
            ]
          },
          "execution_count": 21,
          "metadata": {},
          "output_type": "execute_result"
        }
      ],
      "source": [
        "knn_gs.best_score_"
      ]
    },
    {
      "cell_type": "code",
      "execution_count": 22,
      "metadata": {
        "colab": {
          "base_uri": "https://localhost:8080/"
        },
        "id": "WB-KcutQNaBB",
        "outputId": "3402f630-20bc-4f49-fb99-11a90a8a415f"
      },
      "outputs": [
        {
          "data": {
            "text/plain": [
              "{'kneighborsclassifier__metric': 'cosine',\n",
              " 'kneighborsclassifier__n_neighbors': 7,\n",
              " 'kneighborsclassifier__weights': 'uniform',\n",
              " 'tfidfvectorizer__ngram_range': (2, 3)}"
            ]
          },
          "execution_count": 22,
          "metadata": {},
          "output_type": "execute_result"
        }
      ],
      "source": [
        "knn_gs.best_params_"
      ]
    },
    {
      "cell_type": "code",
      "execution_count": 23,
      "metadata": {
        "colab": {
          "base_uri": "https://localhost:8080/",
          "height": 444
        },
        "id": "tyd9UfRPKrQQ",
        "outputId": "7657e79e-82b0-4e6f-87eb-34312d36841b"
      },
      "outputs": [
        {
          "name": "stdout",
          "output_type": "stream",
          "text": [
            "              precision    recall  f1-score   support\n",
            "\n",
            "           0       0.88      0.93      0.90        95\n",
            "           1       0.95      0.91      0.93       137\n",
            "\n",
            "    accuracy                           0.92       232\n",
            "   macro avg       0.91      0.92      0.92       232\n",
            "weighted avg       0.92      0.92      0.92       232\n",
            "\n"
          ]
        },
        {
          "data": {
            "image/png": "[encoded data removed]",
            "text/plain": [
              "<Figure size 640x480 with 2 Axes>"
            ]
          },
          "metadata": {},
          "output_type": "display_data"
        }
      ],
      "source": [
        "y_test_pred_knn = knn_gs.predict(X_test)\n",
        "print(classification_report(y_test, y_test_pred_knn))\n",
        "ConfusionMatrixDisplay.from_predictions(y_test, y_test_pred_knn);"
      ]
    },
    {
      "cell_type": "code",
      "execution_count": 24,
      "metadata": {},
      "outputs": [],
      "source": [
        "results_knn = pd.DataFrame({\"hist_text_classic\": X_test, \n",
        "                            \"true_label\": y_test,\n",
        "                            \"predicted_label\": y_test_pred_knn,\n",
        "                            \"result\": [\"Correct\" if true == pred else \"Incorrect\" for true, pred in zip(y_test, y_test_pred_knn)],\n",
        "                            \"n_words\": [len(text.split()) for text in X_test]\n",
        "                            })\n",
        "\n",
        "results_knn.true_label.replace({0: \"DC Comics\", 1: \"Marvel Comics\"}, inplace=True)\n",
        "results_knn.predicted_label.replace({0: \"DC Comics\", 1: \"Marvel Comics\"}, inplace=True)"
      ]
    },
    {
      "cell_type": "code",
      "execution_count": 25,
      "metadata": {},
      "outputs": [],
      "source": [
        "results_knn.to_csv(\"data/error_knn.csv\",\n",
        "                    index=False)"
      ]
    },
    {
      "cell_type": "markdown",
      "metadata": {
        "id": "jUYz4NIJ0aBI"
      },
      "source": [
        "#### 2.3 Support Vector Machines"
      ]
    },
    {
      "cell_type": "code",
      "execution_count": 26,
      "metadata": {
        "colab": {
          "base_uri": "https://localhost:8080/"
        },
        "id": "4QbZTINo0iWf",
        "outputId": "51583615-4a57-4172-f2c5-3e8c3e1b5d32"
      },
      "outputs": [
        {
          "name": "stdout",
          "output_type": "stream",
          "text": [
            "['memory',\n",
            " 'robustscaler',\n",
            " 'robustscaler__copy',\n",
            " 'robustscaler__quantile_range',\n",
            " 'robustscaler__unit_variance',\n",
            " 'robustscaler__with_centering',\n",
            " 'robustscaler__with_scaling',\n",
            " 'steps',\n",
            " 'svc',\n",
            " 'svc__C',\n",
            " 'svc__break_ties',\n",
            " 'svc__cache_size',\n",
            " 'svc__class_weight',\n",
            " 'svc__coef0',\n",
            " 'svc__decision_function_shape',\n",
            " 'svc__degree',\n",
            " 'svc__gamma',\n",
            " 'svc__kernel',\n",
            " 'svc__max_iter',\n",
            " 'svc__probability',\n",
            " 'svc__random_state',\n",
            " 'svc__shrinking',\n",
            " 'svc__tol',\n",
            " 'svc__verbose',\n",
            " 'tfidfvectorizer',\n",
            " 'tfidfvectorizer__analyzer',\n",
            " 'tfidfvectorizer__binary',\n",
            " 'tfidfvectorizer__decode_error',\n",
            " 'tfidfvectorizer__dtype',\n",
            " 'tfidfvectorizer__encoding',\n",
            " 'tfidfvectorizer__input',\n",
            " 'tfidfvectorizer__lowercase',\n",
            " 'tfidfvectorizer__max_df',\n",
            " 'tfidfvectorizer__max_features',\n",
            " 'tfidfvectorizer__min_df',\n",
            " 'tfidfvectorizer__ngram_range',\n",
            " 'tfidfvectorizer__norm',\n",
            " 'tfidfvectorizer__preprocessor',\n",
            " 'tfidfvectorizer__smooth_idf',\n",
            " 'tfidfvectorizer__stop_words',\n",
            " 'tfidfvectorizer__strip_accents',\n",
            " 'tfidfvectorizer__sublinear_tf',\n",
            " 'tfidfvectorizer__token_pattern',\n",
            " 'tfidfvectorizer__tokenizer',\n",
            " 'tfidfvectorizer__use_idf',\n",
            " 'tfidfvectorizer__vocabulary',\n",
            " 'verbose']\n"
          ]
        }
      ],
      "source": [
        "pp.pprint(sorted(svm_pipe.get_params().keys()))"
      ]
    },
    {
      "cell_type": "code",
      "execution_count": 27,
      "metadata": {
        "id": "XcjihYNN0sZL"
      },
      "outputs": [],
      "source": [
        "svm_params = [{\n",
        "    \"tfidfvectorizer__ngram_range\": [(1, 1), (1, 2), (2,3)],\n",
        "    \"svc__C\": [0.1, 1, 10, 100],\n",
        "    \"svc__class_weight\": [None, \"balanced\", c_weights],\n",
        "    \"svc__gamma\": [0.0001, 0.001, 0.01, 0.1, 1],\n",
        "    \"svc__kernel\": [\"rbf\", \"linear\"]\n",
        "    }]"
      ]
    },
    {
      "cell_type": "code",
      "execution_count": 28,
      "metadata": {
        "colab": {
          "base_uri": "https://localhost:8080/",
          "height": 180
        },
        "id": "AOmrnBe56Jxq",
        "outputId": "72d15f1e-bec6-41b4-b093-e9d2c723820d"
      },
      "outputs": [
        {
          "name": "stdout",
          "output_type": "stream",
          "text": [
            "Fitting 10 folds for each of 360 candidates, totalling 3600 fits\n"
          ]
        },
        {
          "data": {
            "text/html": [
              "<style>#sk-container-id-6 {color: black;}#sk-container-id-6 pre{padding: 0;}#sk-container-id-6 div.sk-toggleable {background-color: white;}#sk-container-id-6 label.sk-toggleable__label {cursor: pointer;display: block;width: 100%;margin-bottom: 0;padding: 0.3em;box-sizing: border-box;text-align: center;}#sk-container-id-6 label.sk-toggleable__label-arrow:before {content: \"▸\";float: left;margin-right: 0.25em;color: #696969;}#sk-container-id-6 label.sk-toggleable__label-arrow:hover:before {color: black;}#sk-container-id-6 div.sk-estimator:hover label.sk-toggleable__label-arrow:before {color: black;}#sk-container-id-6 div.sk-toggleable__content {max-height: 0;max-width: 0;overflow: hidden;text-align: left;background-color: #f0f8ff;}#sk-container-id-6 div.sk-toggleable__content pre {margin: 0.2em;color: black;border-radius: 0.25em;background-color: #f0f8ff;}#sk-container-id-6 input.sk-toggleable__control:checked~div.sk-toggleable__content {max-height: 200px;max-width: 100%;overflow: auto;}#sk-container-id-6 input.sk-toggleable__control:checked~label.sk-toggleable__label-arrow:before {content: \"▾\";}#sk-container-id-6 div.sk-estimator input.sk-toggleable__control:checked~label.sk-toggleable__label {background-color: #d4ebff;}#sk-container-id-6 div.sk-label input.sk-toggleable__control:checked~label.sk-toggleable__label {background-color: #d4ebff;}#sk-container-id-6 input.sk-hidden--visually {border: 0;clip: rect(1px 1px 1px 1px);clip: rect(1px, 1px, 1px, 1px);height: 1px;margin: -1px;overflow: hidden;padding: 0;position: absolute;width: 1px;}#sk-container-id-6 div.sk-estimator {font-family: monospace;background-color: #f0f8ff;border: 1px dotted black;border-radius: 0.25em;box-sizing: border-box;margin-bottom: 0.5em;}#sk-container-id-6 div.sk-estimator:hover {background-color: #d4ebff;}#sk-container-id-6 div.sk-parallel-item::after {content: \"\";width: 100%;border-bottom: 1px solid gray;flex-grow: 1;}#sk-container-id-6 div.sk-label:hover label.sk-toggleable__label {background-color: #d4ebff;}#sk-container-id-6 div.sk-serial::before {content: \"\";position: absolute;border-left: 1px solid gray;box-sizing: border-box;top: 0;bottom: 0;left: 50%;z-index: 0;}#sk-container-id-6 div.sk-serial {display: flex;flex-direction: column;align-items: center;background-color: white;padding-right: 0.2em;padding-left: 0.2em;position: relative;}#sk-container-id-6 div.sk-item {position: relative;z-index: 1;}#sk-container-id-6 div.sk-parallel {display: flex;align-items: stretch;justify-content: center;background-color: white;position: relative;}#sk-container-id-6 div.sk-item::before, #sk-container-id-6 div.sk-parallel-item::before {content: \"\";position: absolute;border-left: 1px solid gray;box-sizing: border-box;top: 0;bottom: 0;left: 50%;z-index: -1;}#sk-container-id-6 div.sk-parallel-item {display: flex;flex-direction: column;z-index: 1;position: relative;background-color: white;}#sk-container-id-6 div.sk-parallel-item:first-child::after {align-self: flex-end;width: 50%;}#sk-container-id-6 div.sk-parallel-item:last-child::after {align-self: flex-start;width: 50%;}#sk-container-id-6 div.sk-parallel-item:only-child::after {width: 0;}#sk-container-id-6 div.sk-dashed-wrapped {border: 1px dashed gray;margin: 0 0.4em 0.5em 0.4em;box-sizing: border-box;padding-bottom: 0.4em;background-color: white;}#sk-container-id-6 div.sk-label label {font-family: monospace;font-weight: bold;display: inline-block;line-height: 1.2em;}#sk-container-id-6 div.sk-label-container {text-align: center;}#sk-container-id-6 div.sk-container {/* jupyter's `normalize.less` sets `[hidden] { display: none; }` but bootstrap.min.css set `[hidden] { display: none !important; }` so we also need the `!important` here to be able to override the default hidden behavior on the sphinx rendered scikit-learn.org. See: https://github.com/scikit-learn/scikit-learn/issues/21755 */display: inline-block !important;position: relative;}#sk-container-id-6 div.sk-text-repr-fallback {display: none;}</style><div id=\"sk-container-id-6\" class=\"sk-top-container\"><div class=\"sk-text-repr-fallback\"><pre>GridSearchCV(cv=10,\n",
              "             estimator=Pipeline(steps=[(&#x27;tfidfvectorizer&#x27;,\n",
              "                                        TfidfVectorizer(max_features=512)),\n",
              "                                       (&#x27;robustscaler&#x27;,\n",
              "                                        RobustScaler(with_centering=False)),\n",
              "                                       (&#x27;svc&#x27;, SVC(random_state=256))]),\n",
              "             n_jobs=-1,\n",
              "             param_grid=[{&#x27;svc__C&#x27;: [0.1, 1, 10, 100],\n",
              "                          &#x27;svc__class_weight&#x27;: [None, &#x27;balanced&#x27;,\n",
              "                                                {0: 1.45, 1: 1.0}],\n",
              "                          &#x27;svc__gamma&#x27;: [0.0001, 0.001, 0.01, 0.1, 1],\n",
              "                          &#x27;svc__kernel&#x27;: [&#x27;rbf&#x27;, &#x27;linear&#x27;],\n",
              "                          &#x27;tfidfvectorizer__ngram_range&#x27;: [(1, 1), (1, 2),\n",
              "                                                           (2, 3)]}],\n",
              "             scoring=&#x27;f1_macro&#x27;, verbose=1)</pre><b>In a Jupyter environment, please rerun this cell to show the HTML representation or trust the notebook. <br />On GitHub, the HTML representation is unable to render, please try loading this page with nbviewer.org.</b></div><div class=\"sk-container\" hidden><div class=\"sk-item sk-dashed-wrapped\"><div class=\"sk-label-container\"><div class=\"sk-label sk-toggleable\"><input class=\"sk-toggleable__control sk-hidden--visually\" id=\"sk-estimator-id-23\" type=\"checkbox\" ><label for=\"sk-estimator-id-23\" class=\"sk-toggleable__label sk-toggleable__label-arrow\">GridSearchCV</label><div class=\"sk-toggleable__content\"><pre>GridSearchCV(cv=10,\n",
              "             estimator=Pipeline(steps=[(&#x27;tfidfvectorizer&#x27;,\n",
              "                                        TfidfVectorizer(max_features=512)),\n",
              "                                       (&#x27;robustscaler&#x27;,\n",
              "                                        RobustScaler(with_centering=False)),\n",
              "                                       (&#x27;svc&#x27;, SVC(random_state=256))]),\n",
              "             n_jobs=-1,\n",
              "             param_grid=[{&#x27;svc__C&#x27;: [0.1, 1, 10, 100],\n",
              "                          &#x27;svc__class_weight&#x27;: [None, &#x27;balanced&#x27;,\n",
              "                                                {0: 1.45, 1: 1.0}],\n",
              "                          &#x27;svc__gamma&#x27;: [0.0001, 0.001, 0.01, 0.1, 1],\n",
              "                          &#x27;svc__kernel&#x27;: [&#x27;rbf&#x27;, &#x27;linear&#x27;],\n",
              "                          &#x27;tfidfvectorizer__ngram_range&#x27;: [(1, 1), (1, 2),\n",
              "                                                           (2, 3)]}],\n",
              "             scoring=&#x27;f1_macro&#x27;, verbose=1)</pre></div></div></div><div class=\"sk-parallel\"><div class=\"sk-parallel-item\"><div class=\"sk-item\"><div class=\"sk-label-container\"><div class=\"sk-label sk-toggleable\"><input class=\"sk-toggleable__control sk-hidden--visually\" id=\"sk-estimator-id-24\" type=\"checkbox\" ><label for=\"sk-estimator-id-24\" class=\"sk-toggleable__label sk-toggleable__label-arrow\">estimator: Pipeline</label><div class=\"sk-toggleable__content\"><pre>Pipeline(steps=[(&#x27;tfidfvectorizer&#x27;, TfidfVectorizer(max_features=512)),\n",
              "                (&#x27;robustscaler&#x27;, RobustScaler(with_centering=False)),\n",
              "                (&#x27;svc&#x27;, SVC(random_state=256))])</pre></div></div></div><div class=\"sk-serial\"><div class=\"sk-item\"><div class=\"sk-serial\"><div class=\"sk-item\"><div class=\"sk-estimator sk-toggleable\"><input class=\"sk-toggleable__control sk-hidden--visually\" id=\"sk-estimator-id-25\" type=\"checkbox\" ><label for=\"sk-estimator-id-25\" class=\"sk-toggleable__label sk-toggleable__label-arrow\">TfidfVectorizer</label><div class=\"sk-toggleable__content\"><pre>TfidfVectorizer(max_features=512)</pre></div></div></div><div class=\"sk-item\"><div class=\"sk-estimator sk-toggleable\"><input class=\"sk-toggleable__control sk-hidden--visually\" id=\"sk-estimator-id-26\" type=\"checkbox\" ><label for=\"sk-estimator-id-26\" class=\"sk-toggleable__label sk-toggleable__label-arrow\">RobustScaler</label><div class=\"sk-toggleable__content\"><pre>RobustScaler(with_centering=False)</pre></div></div></div><div class=\"sk-item\"><div class=\"sk-estimator sk-toggleable\"><input class=\"sk-toggleable__control sk-hidden--visually\" id=\"sk-estimator-id-27\" type=\"checkbox\" ><label for=\"sk-estimator-id-27\" class=\"sk-toggleable__label sk-toggleable__label-arrow\">SVC</label><div class=\"sk-toggleable__content\"><pre>SVC(random_state=256)</pre></div></div></div></div></div></div></div></div></div></div></div></div>"
            ],
            "text/plain": [
              "GridSearchCV(cv=10,\n",
              "             estimator=Pipeline(steps=[('tfidfvectorizer',\n",
              "                                        TfidfVectorizer(max_features=512)),\n",
              "                                       ('robustscaler',\n",
              "                                        RobustScaler(with_centering=False)),\n",
              "                                       ('svc', SVC(random_state=256))]),\n",
              "             n_jobs=-1,\n",
              "             param_grid=[{'svc__C': [0.1, 1, 10, 100],\n",
              "                          'svc__class_weight': [None, 'balanced',\n",
              "                                                {0: 1.45, 1: 1.0}],\n",
              "                          'svc__gamma': [0.0001, 0.001, 0.01, 0.1, 1],\n",
              "                          'svc__kernel': ['rbf', 'linear'],\n",
              "                          'tfidfvectorizer__ngram_range': [(1, 1), (1, 2),\n",
              "                                                           (2, 3)]}],\n",
              "             scoring='f1_macro', verbose=1)"
            ]
          },
          "execution_count": 28,
          "metadata": {},
          "output_type": "execute_result"
        }
      ],
      "source": [
        "svm_gs = GridSearchCV(svm_pipe,\n",
        "                      svm_params,\n",
        "                      cv=10,\n",
        "                      scoring='f1_macro',\n",
        "                      n_jobs=-1,\n",
        "                      refit=True,\n",
        "                      verbose=1)\n",
        "svm_gs.fit(X_train, y_train)"
      ]
    },
    {
      "cell_type": "code",
      "execution_count": 29,
      "metadata": {
        "colab": {
          "base_uri": "https://localhost:8080/"
        },
        "id": "2jt6nxCe6VYw",
        "outputId": "11be3baa-b8b5-4e07-e793-455065f427b8"
      },
      "outputs": [
        {
          "data": {
            "text/plain": [
              "0.9277006235561804"
            ]
          },
          "execution_count": 29,
          "metadata": {},
          "output_type": "execute_result"
        }
      ],
      "source": [
        "svm_gs.best_score_"
      ]
    },
    {
      "cell_type": "code",
      "execution_count": 30,
      "metadata": {
        "colab": {
          "base_uri": "https://localhost:8080/"
        },
        "id": "c_8vpwGm6U99",
        "outputId": "cb615b6e-6153-4825-c5a1-880c081c0a0b"
      },
      "outputs": [
        {
          "data": {
            "text/plain": [
              "{'svc__C': 1,\n",
              " 'svc__class_weight': {0: 1.45, 1: 1.0},\n",
              " 'svc__gamma': 0.0001,\n",
              " 'svc__kernel': 'linear',\n",
              " 'tfidfvectorizer__ngram_range': (1, 1)}"
            ]
          },
          "execution_count": 30,
          "metadata": {},
          "output_type": "execute_result"
        }
      ],
      "source": [
        "svm_gs.best_params_"
      ]
    },
    {
      "cell_type": "code",
      "execution_count": 31,
      "metadata": {
        "colab": {
          "base_uri": "https://localhost:8080/",
          "height": 444
        },
        "id": "Hpags3L261py",
        "outputId": "c488bcb1-bec8-4257-e66d-753cd004a01c"
      },
      "outputs": [
        {
          "name": "stdout",
          "output_type": "stream",
          "text": [
            "              precision    recall  f1-score   support\n",
            "\n",
            "           0       0.88      0.93      0.90        95\n",
            "           1       0.95      0.91      0.93       137\n",
            "\n",
            "    accuracy                           0.92       232\n",
            "   macro avg       0.91      0.92      0.92       232\n",
            "weighted avg       0.92      0.92      0.92       232\n",
            "\n"
          ]
        },
        {
          "data": {
            "image/png": "[encoded data removed]",
            "text/plain": [
              "<Figure size 640x480 with 2 Axes>"
            ]
          },
          "metadata": {},
          "output_type": "display_data"
        }
      ],
      "source": [
        "y_test_pred_svm = svm_gs.predict(X_test)\n",
        "print(classification_report(y_test, y_test_pred_svm))\n",
        "ConfusionMatrixDisplay.from_predictions(y_test, y_test_pred_svm);"
      ]
    },
    {
      "cell_type": "code",
      "execution_count": 32,
      "metadata": {},
      "outputs": [],
      "source": [
        "results_svm = pd.DataFrame({\"hist_text_classic\": X_test, \n",
        "                            \"true_label\": y_test,\n",
        "                            \"predicted_label\": y_test_pred_svm,\n",
        "                            \"result\": [\"Correct\" if true == pred else \"Incorrect\" for true, pred in zip(y_test, y_test_pred_svm)],\n",
        "                            \"n_words\": [len(text.split()) for text in X_test]\n",
        "                            })\n",
        "\n",
        "results_svm.true_label.replace({0: \"DC Comics\", 1: \"Marvel Comics\"}, inplace=True)\n",
        "results_svm.predicted_label.replace({0: \"DC Comics\", 1: \"Marvel Comics\"}, inplace=True)"
      ]
    },
    {
      "cell_type": "code",
      "execution_count": 33,
      "metadata": {},
      "outputs": [],
      "source": [
        "results_svm.to_csv(\"data/error_svm.csv\",\n",
        "                    index=False)"
      ]
    },
    {
      "cell_type": "markdown",
      "metadata": {
        "id": "e__U2oo372zI"
      },
      "source": [
        "#### 2.4 Multinominal Naive Bayes\n"
      ]
    },
    {
      "cell_type": "code",
      "execution_count": 34,
      "metadata": {
        "colab": {
          "base_uri": "https://localhost:8080/"
        },
        "id": "cZ8X7xBx7rV7",
        "outputId": "0acb1d34-2b5d-48af-91b2-9d26c037aca3"
      },
      "outputs": [
        {
          "name": "stdout",
          "output_type": "stream",
          "text": [
            "['memory',\n",
            " 'multinomialnb',\n",
            " 'multinomialnb__alpha',\n",
            " 'multinomialnb__class_prior',\n",
            " 'multinomialnb__fit_prior',\n",
            " 'multinomialnb__force_alpha',\n",
            " 'robustscaler',\n",
            " 'robustscaler__copy',\n",
            " 'robustscaler__quantile_range',\n",
            " 'robustscaler__unit_variance',\n",
            " 'robustscaler__with_centering',\n",
            " 'robustscaler__with_scaling',\n",
            " 'steps',\n",
            " 'tfidfvectorizer',\n",
            " 'tfidfvectorizer__analyzer',\n",
            " 'tfidfvectorizer__binary',\n",
            " 'tfidfvectorizer__decode_error',\n",
            " 'tfidfvectorizer__dtype',\n",
            " 'tfidfvectorizer__encoding',\n",
            " 'tfidfvectorizer__input',\n",
            " 'tfidfvectorizer__lowercase',\n",
            " 'tfidfvectorizer__max_df',\n",
            " 'tfidfvectorizer__max_features',\n",
            " 'tfidfvectorizer__min_df',\n",
            " 'tfidfvectorizer__ngram_range',\n",
            " 'tfidfvectorizer__norm',\n",
            " 'tfidfvectorizer__preprocessor',\n",
            " 'tfidfvectorizer__smooth_idf',\n",
            " 'tfidfvectorizer__stop_words',\n",
            " 'tfidfvectorizer__strip_accents',\n",
            " 'tfidfvectorizer__sublinear_tf',\n",
            " 'tfidfvectorizer__token_pattern',\n",
            " 'tfidfvectorizer__tokenizer',\n",
            " 'tfidfvectorizer__use_idf',\n",
            " 'tfidfvectorizer__vocabulary',\n",
            " 'verbose']\n"
          ]
        }
      ],
      "source": [
        "pp.pprint(sorted(nb_pipe.get_params().keys()))"
      ]
    },
    {
      "cell_type": "code",
      "execution_count": 35,
      "metadata": {
        "id": "fs0C6mq99Aep"
      },
      "outputs": [],
      "source": [
        "nb_params = [{\n",
        "    \"tfidfvectorizer__ngram_range\": [(1, 1), (1, 2), (2,3)],\n",
        "    \"multinomialnb__alpha\": [000.1, 00.1, 0.1, 0.5, 1, 10]\n",
        "    }]"
      ]
    },
    {
      "cell_type": "code",
      "execution_count": 36,
      "metadata": {
        "colab": {
          "base_uri": "https://localhost:8080/",
          "height": 180
        },
        "id": "VhXR3TSWZLUu",
        "outputId": "a54f0774-e15a-4d23-ee8c-5b439130c2c4"
      },
      "outputs": [
        {
          "name": "stdout",
          "output_type": "stream",
          "text": [
            "Fitting 10 folds for each of 18 candidates, totalling 180 fits\n"
          ]
        },
        {
          "data": {
            "text/html": [
              "<style>#sk-container-id-7 {color: black;}#sk-container-id-7 pre{padding: 0;}#sk-container-id-7 div.sk-toggleable {background-color: white;}#sk-container-id-7 label.sk-toggleable__label {cursor: pointer;display: block;width: 100%;margin-bottom: 0;padding: 0.3em;box-sizing: border-box;text-align: center;}#sk-container-id-7 label.sk-toggleable__label-arrow:before {content: \"▸\";float: left;margin-right: 0.25em;color: #696969;}#sk-container-id-7 label.sk-toggleable__label-arrow:hover:before {color: black;}#sk-container-id-7 div.sk-estimator:hover label.sk-toggleable__label-arrow:before {color: black;}#sk-container-id-7 div.sk-toggleable__content {max-height: 0;max-width: 0;overflow: hidden;text-align: left;background-color: #f0f8ff;}#sk-container-id-7 div.sk-toggleable__content pre {margin: 0.2em;color: black;border-radius: 0.25em;background-color: #f0f8ff;}#sk-container-id-7 input.sk-toggleable__control:checked~div.sk-toggleable__content {max-height: 200px;max-width: 100%;overflow: auto;}#sk-container-id-7 input.sk-toggleable__control:checked~label.sk-toggleable__label-arrow:before {content: \"▾\";}#sk-container-id-7 div.sk-estimator input.sk-toggleable__control:checked~label.sk-toggleable__label {background-color: #d4ebff;}#sk-container-id-7 div.sk-label input.sk-toggleable__control:checked~label.sk-toggleable__label {background-color: #d4ebff;}#sk-container-id-7 input.sk-hidden--visually {border: 0;clip: rect(1px 1px 1px 1px);clip: rect(1px, 1px, 1px, 1px);height: 1px;margin: -1px;overflow: hidden;padding: 0;position: absolute;width: 1px;}#sk-container-id-7 div.sk-estimator {font-family: monospace;background-color: #f0f8ff;border: 1px dotted black;border-radius: 0.25em;box-sizing: border-box;margin-bottom: 0.5em;}#sk-container-id-7 div.sk-estimator:hover {background-color: #d4ebff;}#sk-container-id-7 div.sk-parallel-item::after {content: \"\";width: 100%;border-bottom: 1px solid gray;flex-grow: 1;}#sk-container-id-7 div.sk-label:hover label.sk-toggleable__label {background-color: #d4ebff;}#sk-container-id-7 div.sk-serial::before {content: \"\";position: absolute;border-left: 1px solid gray;box-sizing: border-box;top: 0;bottom: 0;left: 50%;z-index: 0;}#sk-container-id-7 div.sk-serial {display: flex;flex-direction: column;align-items: center;background-color: white;padding-right: 0.2em;padding-left: 0.2em;position: relative;}#sk-container-id-7 div.sk-item {position: relative;z-index: 1;}#sk-container-id-7 div.sk-parallel {display: flex;align-items: stretch;justify-content: center;background-color: white;position: relative;}#sk-container-id-7 div.sk-item::before, #sk-container-id-7 div.sk-parallel-item::before {content: \"\";position: absolute;border-left: 1px solid gray;box-sizing: border-box;top: 0;bottom: 0;left: 50%;z-index: -1;}#sk-container-id-7 div.sk-parallel-item {display: flex;flex-direction: column;z-index: 1;position: relative;background-color: white;}#sk-container-id-7 div.sk-parallel-item:first-child::after {align-self: flex-end;width: 50%;}#sk-container-id-7 div.sk-parallel-item:last-child::after {align-self: flex-start;width: 50%;}#sk-container-id-7 div.sk-parallel-item:only-child::after {width: 0;}#sk-container-id-7 div.sk-dashed-wrapped {border: 1px dashed gray;margin: 0 0.4em 0.5em 0.4em;box-sizing: border-box;padding-bottom: 0.4em;background-color: white;}#sk-container-id-7 div.sk-label label {font-family: monospace;font-weight: bold;display: inline-block;line-height: 1.2em;}#sk-container-id-7 div.sk-label-container {text-align: center;}#sk-container-id-7 div.sk-container {/* jupyter's `normalize.less` sets `[hidden] { display: none; }` but bootstrap.min.css set `[hidden] { display: none !important; }` so we also need the `!important` here to be able to override the default hidden behavior on the sphinx rendered scikit-learn.org. See: https://github.com/scikit-learn/scikit-learn/issues/21755 */display: inline-block !important;position: relative;}#sk-container-id-7 div.sk-text-repr-fallback {display: none;}</style><div id=\"sk-container-id-7\" class=\"sk-top-container\"><div class=\"sk-text-repr-fallback\"><pre>GridSearchCV(cv=10,\n",
              "             estimator=Pipeline(steps=[(&#x27;tfidfvectorizer&#x27;,\n",
              "                                        TfidfVectorizer(max_features=512)),\n",
              "                                       (&#x27;robustscaler&#x27;,\n",
              "                                        RobustScaler(with_centering=False)),\n",
              "                                       (&#x27;multinomialnb&#x27;, MultinomialNB())]),\n",
              "             n_jobs=-1,\n",
              "             param_grid=[{&#x27;multinomialnb__alpha&#x27;: [0.1, 0.1, 0.1, 0.5, 1, 10],\n",
              "                          &#x27;tfidfvectorizer__ngram_range&#x27;: [(1, 1), (1, 2),\n",
              "                                                           (2, 3)]}],\n",
              "             scoring=&#x27;f1_macro&#x27;, verbose=1)</pre><b>In a Jupyter environment, please rerun this cell to show the HTML representation or trust the notebook. <br />On GitHub, the HTML representation is unable to render, please try loading this page with nbviewer.org.</b></div><div class=\"sk-container\" hidden><div class=\"sk-item sk-dashed-wrapped\"><div class=\"sk-label-container\"><div class=\"sk-label sk-toggleable\"><input class=\"sk-toggleable__control sk-hidden--visually\" id=\"sk-estimator-id-28\" type=\"checkbox\" ><label for=\"sk-estimator-id-28\" class=\"sk-toggleable__label sk-toggleable__label-arrow\">GridSearchCV</label><div class=\"sk-toggleable__content\"><pre>GridSearchCV(cv=10,\n",
              "             estimator=Pipeline(steps=[(&#x27;tfidfvectorizer&#x27;,\n",
              "                                        TfidfVectorizer(max_features=512)),\n",
              "                                       (&#x27;robustscaler&#x27;,\n",
              "                                        RobustScaler(with_centering=False)),\n",
              "                                       (&#x27;multinomialnb&#x27;, MultinomialNB())]),\n",
              "             n_jobs=-1,\n",
              "             param_grid=[{&#x27;multinomialnb__alpha&#x27;: [0.1, 0.1, 0.1, 0.5, 1, 10],\n",
              "                          &#x27;tfidfvectorizer__ngram_range&#x27;: [(1, 1), (1, 2),\n",
              "                                                           (2, 3)]}],\n",
              "             scoring=&#x27;f1_macro&#x27;, verbose=1)</pre></div></div></div><div class=\"sk-parallel\"><div class=\"sk-parallel-item\"><div class=\"sk-item\"><div class=\"sk-label-container\"><div class=\"sk-label sk-toggleable\"><input class=\"sk-toggleable__control sk-hidden--visually\" id=\"sk-estimator-id-29\" type=\"checkbox\" ><label for=\"sk-estimator-id-29\" class=\"sk-toggleable__label sk-toggleable__label-arrow\">estimator: Pipeline</label><div class=\"sk-toggleable__content\"><pre>Pipeline(steps=[(&#x27;tfidfvectorizer&#x27;, TfidfVectorizer(max_features=512)),\n",
              "                (&#x27;robustscaler&#x27;, RobustScaler(with_centering=False)),\n",
              "                (&#x27;multinomialnb&#x27;, MultinomialNB())])</pre></div></div></div><div class=\"sk-serial\"><div class=\"sk-item\"><div class=\"sk-serial\"><div class=\"sk-item\"><div class=\"sk-estimator sk-toggleable\"><input class=\"sk-toggleable__control sk-hidden--visually\" id=\"sk-estimator-id-30\" type=\"checkbox\" ><label for=\"sk-estimator-id-30\" class=\"sk-toggleable__label sk-toggleable__label-arrow\">TfidfVectorizer</label><div class=\"sk-toggleable__content\"><pre>TfidfVectorizer(max_features=512)</pre></div></div></div><div class=\"sk-item\"><div class=\"sk-estimator sk-toggleable\"><input class=\"sk-toggleable__control sk-hidden--visually\" id=\"sk-estimator-id-31\" type=\"checkbox\" ><label for=\"sk-estimator-id-31\" class=\"sk-toggleable__label sk-toggleable__label-arrow\">RobustScaler</label><div class=\"sk-toggleable__content\"><pre>RobustScaler(with_centering=False)</pre></div></div></div><div class=\"sk-item\"><div class=\"sk-estimator sk-toggleable\"><input class=\"sk-toggleable__control sk-hidden--visually\" id=\"sk-estimator-id-32\" type=\"checkbox\" ><label for=\"sk-estimator-id-32\" class=\"sk-toggleable__label sk-toggleable__label-arrow\">MultinomialNB</label><div class=\"sk-toggleable__content\"><pre>MultinomialNB()</pre></div></div></div></div></div></div></div></div></div></div></div></div>"
            ],
            "text/plain": [
              "GridSearchCV(cv=10,\n",
              "             estimator=Pipeline(steps=[('tfidfvectorizer',\n",
              "                                        TfidfVectorizer(max_features=512)),\n",
              "                                       ('robustscaler',\n",
              "                                        RobustScaler(with_centering=False)),\n",
              "                                       ('multinomialnb', MultinomialNB())]),\n",
              "             n_jobs=-1,\n",
              "             param_grid=[{'multinomialnb__alpha': [0.1, 0.1, 0.1, 0.5, 1, 10],\n",
              "                          'tfidfvectorizer__ngram_range': [(1, 1), (1, 2),\n",
              "                                                           (2, 3)]}],\n",
              "             scoring='f1_macro', verbose=1)"
            ]
          },
          "execution_count": 36,
          "metadata": {},
          "output_type": "execute_result"
        }
      ],
      "source": [
        "nb_gs = GridSearchCV(nb_pipe,\n",
        "                     nb_params,\n",
        "                     cv=10,\n",
        "                     scoring='f1_macro',\n",
        "                     n_jobs=-1,\n",
        "                     refit=True,\n",
        "                     verbose=1)\n",
        "nb_gs.fit(X_train, y_train)"
      ]
    },
    {
      "cell_type": "code",
      "execution_count": 37,
      "metadata": {
        "colab": {
          "base_uri": "https://localhost:8080/"
        },
        "id": "RRWI1iyA7E0B",
        "outputId": "87aa5de8-adbc-417e-ce8e-86bbd420c142"
      },
      "outputs": [
        {
          "data": {
            "text/plain": [
              "0.9076078032110857"
            ]
          },
          "execution_count": 37,
          "metadata": {},
          "output_type": "execute_result"
        }
      ],
      "source": [
        "nb_gs.best_score_"
      ]
    },
    {
      "cell_type": "code",
      "execution_count": 38,
      "metadata": {
        "colab": {
          "base_uri": "https://localhost:8080/"
        },
        "id": "jyMdfGbV7MFw",
        "outputId": "05421b83-5a4e-48ec-e133-48d263486e04"
      },
      "outputs": [
        {
          "data": {
            "text/plain": [
              "{'multinomialnb__alpha': 0.1, 'tfidfvectorizer__ngram_range': (2, 3)}"
            ]
          },
          "execution_count": 38,
          "metadata": {},
          "output_type": "execute_result"
        }
      ],
      "source": [
        "nb_gs.best_params_"
      ]
    },
    {
      "cell_type": "code",
      "execution_count": 39,
      "metadata": {
        "colab": {
          "base_uri": "https://localhost:8080/",
          "height": 444
        },
        "id": "IhKMmM9z7Sdi",
        "outputId": "791d3ac9-3a7e-478c-a46b-acf2722cc5a6"
      },
      "outputs": [
        {
          "name": "stdout",
          "output_type": "stream",
          "text": [
            "              precision    recall  f1-score   support\n",
            "\n",
            "           0       0.98      0.85      0.91        95\n",
            "           1       0.91      0.99      0.94       137\n",
            "\n",
            "    accuracy                           0.93       232\n",
            "   macro avg       0.94      0.92      0.93       232\n",
            "weighted avg       0.93      0.93      0.93       232\n",
            "\n"
          ]
        },
        {
          "data": {
            "image/png": "[encoded data removed]",
            "text/plain": [
              "<Figure size 640x480 with 2 Axes>"
            ]
          },
          "metadata": {},
          "output_type": "display_data"
        }
      ],
      "source": [
        "y_test_pred_nb = nb_gs.predict(X_test)\n",
        "print(classification_report(y_test, y_test_pred_nb))\n",
        "ConfusionMatrixDisplay.from_predictions(y_test, y_test_pred_nb);"
      ]
    },
    {
      "cell_type": "code",
      "execution_count": 40,
      "metadata": {},
      "outputs": [],
      "source": [
        "results_nb = pd.DataFrame({\"hist_text_classic\": X_test, \n",
        "                            \"true_label\": y_test,\n",
        "                            \"predicted_label\": y_test_pred_nb,\n",
        "                            \"result\": [\"Correct\" if true == pred else \"Incorrect\" for true, pred in zip(y_test, y_test_pred_nb)],\n",
        "                            \"n_words\": [len(text.split()) for text in X_test]\n",
        "                            })\n",
        "\n",
        "results_nb.true_label.replace({0: \"DC Comics\", 1: \"Marvel Comics\"}, inplace=True)\n",
        "results_nb.predicted_label.replace({0: \"DC Comics\", 1: \"Marvel Comics\"}, inplace=True)"
      ]
    },
    {
      "cell_type": "code",
      "execution_count": 41,
      "metadata": {},
      "outputs": [],
      "source": [
        "results_nb.to_csv(\"data/error_nb.csv\",\n",
        "                  index=False)"
      ]
    },
    {
      "cell_type": "markdown",
      "metadata": {},
      "source": [
        "### 3 Error analysis"
      ]
    },
    {
      "cell_type": "code",
      "execution_count": 42,
      "metadata": {},
      "outputs": [
        {
          "data": {
            "text/html": [
              "<div>\n",
              "<style scoped>\n",
              "    .dataframe tbody tr th:only-of-type {\n",
              "        vertical-align: middle;\n",
              "    }\n",
              "\n",
              "    .dataframe tbody tr th {\n",
              "        vertical-align: top;\n",
              "    }\n",
              "\n",
              "    .dataframe thead th {\n",
              "        text-align: right;\n",
              "    }\n",
              "</style>\n",
              "<table border=\"1\" class=\"dataframe\">\n",
              "  <thead>\n",
              "    <tr style=\"text-align: right;\">\n",
              "      <th></th>\n",
              "      <th>hist_text_classic</th>\n",
              "      <th>true_label</th>\n",
              "      <th>predicted_label</th>\n",
              "      <th>result</th>\n",
              "      <th>n_words</th>\n",
              "    </tr>\n",
              "  </thead>\n",
              "  <tbody>\n",
              "    <tr>\n",
              "      <th>1238</th>\n",
              "      <td>max save magda gas chamber execution ; member ...</td>\n",
              "      <td>Marvel Comics</td>\n",
              "      <td>DC Comics</td>\n",
              "      <td>Incorrect</td>\n",
              "      <td>269</td>\n",
              "    </tr>\n",
              "    <tr>\n",
              "      <th>494</th>\n",
              "      <td>vic stone son pair scientist decide use test s...</td>\n",
              "      <td>DC Comics</td>\n",
              "      <td>Marvel Comics</td>\n",
              "      <td>Incorrect</td>\n",
              "      <td>245</td>\n",
              "    </tr>\n",
              "    <tr>\n",
              "      <th>1175</th>\n",
              "      <td>sam stern little slow - witte laborer complete...</td>\n",
              "      <td>Marvel Comics</td>\n",
              "      <td>DC Comics</td>\n",
              "      <td>Incorrect</td>\n",
              "      <td>135</td>\n",
              "    </tr>\n",
              "    <tr>\n",
              "      <th>1584</th>\n",
              "      <td>vic sage , television investigative journalist...</td>\n",
              "      <td>DC Comics</td>\n",
              "      <td>Marvel Comics</td>\n",
              "      <td>Incorrect</td>\n",
              "      <td>318</td>\n",
              "    </tr>\n",
              "    <tr>\n",
              "      <th>2071</th>\n",
              "      <td>mary macpherran bear prematurely suburb denver...</td>\n",
              "      <td>Marvel Comics</td>\n",
              "      <td>DC Comics</td>\n",
              "      <td>Incorrect</td>\n",
              "      <td>131</td>\n",
              "    </tr>\n",
              "    <tr>\n",
              "      <th>759</th>\n",
              "      <td>flash thompson bully - turn selfless - soldier...</td>\n",
              "      <td>Marvel Comics</td>\n",
              "      <td>DC Comics</td>\n",
              "      <td>Incorrect</td>\n",
              "      <td>166</td>\n",
              "    </tr>\n",
              "    <tr>\n",
              "      <th>1481</th>\n",
              "      <td>dr . rudy jones ( die november 2016 ) research...</td>\n",
              "      <td>DC Comics</td>\n",
              "      <td>Marvel Comics</td>\n",
              "      <td>Incorrect</td>\n",
              "      <td>30</td>\n",
              "    </tr>\n",
              "    <tr>\n",
              "      <th>155</th>\n",
              "      <td>albert \" al \" rothstein ( die october 6 , 2015...</td>\n",
              "      <td>DC Comics</td>\n",
              "      <td>Marvel Comics</td>\n",
              "      <td>Incorrect</td>\n",
              "      <td>30</td>\n",
              "    </tr>\n",
              "    <tr>\n",
              "      <th>2139</th>\n",
              "      <td>vili 2 brother odin ve , asgardian war frost g...</td>\n",
              "      <td>Marvel Comics</td>\n",
              "      <td>DC Comics</td>\n",
              "      <td>Incorrect</td>\n",
              "      <td>65</td>\n",
              "    </tr>\n",
              "    <tr>\n",
              "      <th>330</th>\n",
              "      <td>jaime assistance , start develop free independ...</td>\n",
              "      <td>DC Comics</td>\n",
              "      <td>Marvel Comics</td>\n",
              "      <td>Incorrect</td>\n",
              "      <td>194</td>\n",
              "    </tr>\n",
              "    <tr>\n",
              "      <th>2114</th>\n",
              "      <td>speak jackson , come attack costume vigilante ...</td>\n",
              "      <td>Marvel Comics</td>\n",
              "      <td>DC Comics</td>\n",
              "      <td>Incorrect</td>\n",
              "      <td>210</td>\n",
              "    </tr>\n",
              "    <tr>\n",
              "      <th>39</th>\n",
              "      <td>ajax ( bear francis freeman ) human gain immun...</td>\n",
              "      <td>Marvel Comics</td>\n",
              "      <td>DC Comics</td>\n",
              "      <td>Incorrect</td>\n",
              "      <td>17</td>\n",
              "    </tr>\n",
              "    <tr>\n",
              "      <th>702</th>\n",
              "      <td>little know childhood youth fatale come dark b...</td>\n",
              "      <td>Marvel Comics</td>\n",
              "      <td>DC Comics</td>\n",
              "      <td>Incorrect</td>\n",
              "      <td>16</td>\n",
              "    </tr>\n",
              "    <tr>\n",
              "      <th>706</th>\n",
              "      <td>cannonball overpower feral , old friend lucia ...</td>\n",
              "      <td>Marvel Comics</td>\n",
              "      <td>DC Comics</td>\n",
              "      <td>Incorrect</td>\n",
              "      <td>30</td>\n",
              "    </tr>\n",
              "    <tr>\n",
              "      <th>56</th>\n",
              "      <td>have drink , rowdy guest penguin use gimmick u...</td>\n",
              "      <td>DC Comics</td>\n",
              "      <td>Marvel Comics</td>\n",
              "      <td>Incorrect</td>\n",
              "      <td>11</td>\n",
              "    </tr>\n",
              "    <tr>\n",
              "      <th>2087</th>\n",
              "      <td>piper eventually chop hand trickster carry cor...</td>\n",
              "      <td>DC Comics</td>\n",
              "      <td>Marvel Comics</td>\n",
              "      <td>Incorrect</td>\n",
              "      <td>36</td>\n",
              "    </tr>\n",
              "    <tr>\n",
              "      <th>1918</th>\n",
              "      <td>reassure crew lose earth remain matter , journ...</td>\n",
              "      <td>DC Comics</td>\n",
              "      <td>Marvel Comics</td>\n",
              "      <td>Incorrect</td>\n",
              "      <td>12</td>\n",
              "    </tr>\n",
              "    <tr>\n",
              "      <th>1438</th>\n",
              "      <td>night thrasher parent kill young . start hate ...</td>\n",
              "      <td>Marvel Comics</td>\n",
              "      <td>DC Comics</td>\n",
              "      <td>Incorrect</td>\n",
              "      <td>72</td>\n",
              "    </tr>\n",
              "    <tr>\n",
              "      <th>32</th>\n",
              "      <td>mid - late 1973 , zero member team x , consist...</td>\n",
              "      <td>Marvel Comics</td>\n",
              "      <td>DC Comics</td>\n",
              "      <td>Incorrect</td>\n",
              "      <td>53</td>\n",
              "    </tr>\n",
              "    <tr>\n",
              "      <th>1441</th>\n",
              "      <td>kurt wagner bear certain unusual physical char...</td>\n",
              "      <td>Marvel Comics</td>\n",
              "      <td>DC Comics</td>\n",
              "      <td>Incorrect</td>\n",
              "      <td>292</td>\n",
              "    </tr>\n",
              "    <tr>\n",
              "      <th>53</th>\n",
              "      <td>join father villain , kid amazo fight urge pro...</td>\n",
              "      <td>DC Comics</td>\n",
              "      <td>Marvel Comics</td>\n",
              "      <td>Incorrect</td>\n",
              "      <td>25</td>\n",
              "    </tr>\n",
              "    <tr>\n",
              "      <th>922</th>\n",
              "      <td>rex send role hourman android hourman return j...</td>\n",
              "      <td>DC Comics</td>\n",
              "      <td>Marvel Comics</td>\n",
              "      <td>Incorrect</td>\n",
              "      <td>71</td>\n",
              "    </tr>\n",
              "  </tbody>\n",
              "</table>\n",
              "</div>"
            ],
            "text/plain": [
              "                                      hist_text_classic     true_label  \\\n",
              "1238  max save magda gas chamber execution ; member ...  Marvel Comics   \n",
              "494   vic stone son pair scientist decide use test s...      DC Comics   \n",
              "1175  sam stern little slow - witte laborer complete...  Marvel Comics   \n",
              "1584  vic sage , television investigative journalist...      DC Comics   \n",
              "2071  mary macpherran bear prematurely suburb denver...  Marvel Comics   \n",
              "759   flash thompson bully - turn selfless - soldier...  Marvel Comics   \n",
              "1481  dr . rudy jones ( die november 2016 ) research...      DC Comics   \n",
              "155   albert \" al \" rothstein ( die october 6 , 2015...      DC Comics   \n",
              "2139  vili 2 brother odin ve , asgardian war frost g...  Marvel Comics   \n",
              "330   jaime assistance , start develop free independ...      DC Comics   \n",
              "2114  speak jackson , come attack costume vigilante ...  Marvel Comics   \n",
              "39    ajax ( bear francis freeman ) human gain immun...  Marvel Comics   \n",
              "702   little know childhood youth fatale come dark b...  Marvel Comics   \n",
              "706   cannonball overpower feral , old friend lucia ...  Marvel Comics   \n",
              "56    have drink , rowdy guest penguin use gimmick u...      DC Comics   \n",
              "2087  piper eventually chop hand trickster carry cor...      DC Comics   \n",
              "1918  reassure crew lose earth remain matter , journ...      DC Comics   \n",
              "1438  night thrasher parent kill young . start hate ...  Marvel Comics   \n",
              "32    mid - late 1973 , zero member team x , consist...  Marvel Comics   \n",
              "1441  kurt wagner bear certain unusual physical char...  Marvel Comics   \n",
              "53    join father villain , kid amazo fight urge pro...      DC Comics   \n",
              "922   rex send role hourman android hourman return j...      DC Comics   \n",
              "\n",
              "     predicted_label     result  n_words  \n",
              "1238       DC Comics  Incorrect      269  \n",
              "494    Marvel Comics  Incorrect      245  \n",
              "1175       DC Comics  Incorrect      135  \n",
              "1584   Marvel Comics  Incorrect      318  \n",
              "2071       DC Comics  Incorrect      131  \n",
              "759        DC Comics  Incorrect      166  \n",
              "1481   Marvel Comics  Incorrect       30  \n",
              "155    Marvel Comics  Incorrect       30  \n",
              "2139       DC Comics  Incorrect       65  \n",
              "330    Marvel Comics  Incorrect      194  \n",
              "2114       DC Comics  Incorrect      210  \n",
              "39         DC Comics  Incorrect       17  \n",
              "702        DC Comics  Incorrect       16  \n",
              "706        DC Comics  Incorrect       30  \n",
              "56     Marvel Comics  Incorrect       11  \n",
              "2087   Marvel Comics  Incorrect       36  \n",
              "1918   Marvel Comics  Incorrect       12  \n",
              "1438       DC Comics  Incorrect       72  \n",
              "32         DC Comics  Incorrect       53  \n",
              "1441       DC Comics  Incorrect      292  \n",
              "53     Marvel Comics  Incorrect       25  \n",
              "922    Marvel Comics  Incorrect       71  "
            ]
          },
          "execution_count": 42,
          "metadata": {},
          "output_type": "execute_result"
        }
      ],
      "source": [
        "results_logreg[results_logreg[\"result\"]==\"Incorrect\"]"
      ]
    },
    {
      "cell_type": "code",
      "execution_count": 43,
      "metadata": {},
      "outputs": [
        {
          "data": {
            "text/html": [
              "<div>\n",
              "<style scoped>\n",
              "    .dataframe tbody tr th:only-of-type {\n",
              "        vertical-align: middle;\n",
              "    }\n",
              "\n",
              "    .dataframe tbody tr th {\n",
              "        vertical-align: top;\n",
              "    }\n",
              "\n",
              "    .dataframe thead th {\n",
              "        text-align: right;\n",
              "    }\n",
              "</style>\n",
              "<table border=\"1\" class=\"dataframe\">\n",
              "  <thead>\n",
              "    <tr style=\"text-align: right;\">\n",
              "      <th></th>\n",
              "      <th>hist_text_classic</th>\n",
              "      <th>true_label</th>\n",
              "      <th>predicted_label</th>\n",
              "      <th>result</th>\n",
              "      <th>n_words</th>\n",
              "    </tr>\n",
              "  </thead>\n",
              "  <tbody>\n",
              "    <tr>\n",
              "      <th>1238</th>\n",
              "      <td>max save magda gas chamber execution ; member ...</td>\n",
              "      <td>Marvel Comics</td>\n",
              "      <td>DC Comics</td>\n",
              "      <td>Incorrect</td>\n",
              "      <td>269</td>\n",
              "    </tr>\n",
              "    <tr>\n",
              "      <th>494</th>\n",
              "      <td>vic stone son pair scientist decide use test s...</td>\n",
              "      <td>DC Comics</td>\n",
              "      <td>Marvel Comics</td>\n",
              "      <td>Incorrect</td>\n",
              "      <td>245</td>\n",
              "    </tr>\n",
              "    <tr>\n",
              "      <th>302</th>\n",
              "      <td>channel positive energy , blackwulf able slice...</td>\n",
              "      <td>Marvel Comics</td>\n",
              "      <td>DC Comics</td>\n",
              "      <td>Incorrect</td>\n",
              "      <td>210</td>\n",
              "    </tr>\n",
              "    <tr>\n",
              "      <th>1615</th>\n",
              "      <td>arsenal later come conflict vandal savage . sa...</td>\n",
              "      <td>DC Comics</td>\n",
              "      <td>Marvel Comics</td>\n",
              "      <td>Incorrect</td>\n",
              "      <td>281</td>\n",
              "    </tr>\n",
              "    <tr>\n",
              "      <th>1951</th>\n",
              "      <td>decide stay future work legion , give flight r...</td>\n",
              "      <td>DC Comics</td>\n",
              "      <td>Marvel Comics</td>\n",
              "      <td>Incorrect</td>\n",
              "      <td>254</td>\n",
              "    </tr>\n",
              "    <tr>\n",
              "      <th>1797</th>\n",
              "      <td>apparently shatterstar body merge russell , re...</td>\n",
              "      <td>Marvel Comics</td>\n",
              "      <td>DC Comics</td>\n",
              "      <td>Incorrect</td>\n",
              "      <td>216</td>\n",
              "    </tr>\n",
              "    <tr>\n",
              "      <th>1150</th>\n",
              "      <td>korg kronan warrior reside sakaar force partic...</td>\n",
              "      <td>Marvel Comics</td>\n",
              "      <td>DC Comics</td>\n",
              "      <td>Incorrect</td>\n",
              "      <td>41</td>\n",
              "    </tr>\n",
              "    <tr>\n",
              "      <th>2035</th>\n",
              "      <td>defense inject serum change lizard prevent osc...</td>\n",
              "      <td>Marvel Comics</td>\n",
              "      <td>DC Comics</td>\n",
              "      <td>Incorrect</td>\n",
              "      <td>42</td>\n",
              "    </tr>\n",
              "    <tr>\n",
              "      <th>2071</th>\n",
              "      <td>mary macpherran bear prematurely suburb denver...</td>\n",
              "      <td>Marvel Comics</td>\n",
              "      <td>DC Comics</td>\n",
              "      <td>Incorrect</td>\n",
              "      <td>131</td>\n",
              "    </tr>\n",
              "    <tr>\n",
              "      <th>371</th>\n",
              "      <td>nathan summer ' birth carefully orchestrate ge...</td>\n",
              "      <td>Marvel Comics</td>\n",
              "      <td>DC Comics</td>\n",
              "      <td>Incorrect</td>\n",
              "      <td>309</td>\n",
              "    </tr>\n",
              "    <tr>\n",
              "      <th>2139</th>\n",
              "      <td>vili 2 brother odin ve , asgardian war frost g...</td>\n",
              "      <td>Marvel Comics</td>\n",
              "      <td>DC Comics</td>\n",
              "      <td>Incorrect</td>\n",
              "      <td>65</td>\n",
              "    </tr>\n",
              "    <tr>\n",
              "      <th>39</th>\n",
              "      <td>ajax ( bear francis freeman ) human gain immun...</td>\n",
              "      <td>Marvel Comics</td>\n",
              "      <td>DC Comics</td>\n",
              "      <td>Incorrect</td>\n",
              "      <td>17</td>\n",
              "    </tr>\n",
              "    <tr>\n",
              "      <th>1456</th>\n",
              "      <td>jean - paul beaubier parent kill car crash sho...</td>\n",
              "      <td>Marvel Comics</td>\n",
              "      <td>DC Comics</td>\n",
              "      <td>Incorrect</td>\n",
              "      <td>303</td>\n",
              "    </tr>\n",
              "    <tr>\n",
              "      <th>706</th>\n",
              "      <td>cannonball overpower feral , old friend lucia ...</td>\n",
              "      <td>Marvel Comics</td>\n",
              "      <td>DC Comics</td>\n",
              "      <td>Incorrect</td>\n",
              "      <td>30</td>\n",
              "    </tr>\n",
              "    <tr>\n",
              "      <th>167</th>\n",
              "      <td>prison serve father life sentence prison age 8...</td>\n",
              "      <td>DC Comics</td>\n",
              "      <td>Marvel Comics</td>\n",
              "      <td>Incorrect</td>\n",
              "      <td>57</td>\n",
              "    </tr>\n",
              "    <tr>\n",
              "      <th>490</th>\n",
              "      <td>doomsday eventually bring board space cruiser ...</td>\n",
              "      <td>DC Comics</td>\n",
              "      <td>Marvel Comics</td>\n",
              "      <td>Incorrect</td>\n",
              "      <td>275</td>\n",
              "    </tr>\n",
              "    <tr>\n",
              "      <th>2124</th>\n",
              "      <td>angelo fortunato humiliate criminal father , o...</td>\n",
              "      <td>Marvel Comics</td>\n",
              "      <td>DC Comics</td>\n",
              "      <td>Incorrect</td>\n",
              "      <td>113</td>\n",
              "    </tr>\n",
              "    <tr>\n",
              "      <th>188</th>\n",
              "      <td>daughter gotham police commissioner james gord...</td>\n",
              "      <td>DC Comics</td>\n",
              "      <td>Marvel Comics</td>\n",
              "      <td>Incorrect</td>\n",
              "      <td>127</td>\n",
              "    </tr>\n",
              "    <tr>\n",
              "      <th>1582</th>\n",
              "      <td>hippolyta sister , antiope amazon emerge soul ...</td>\n",
              "      <td>DC Comics</td>\n",
              "      <td>Marvel Comics</td>\n",
              "      <td>Incorrect</td>\n",
              "      <td>278</td>\n",
              "    </tr>\n",
              "  </tbody>\n",
              "</table>\n",
              "</div>"
            ],
            "text/plain": [
              "                                      hist_text_classic     true_label  \\\n",
              "1238  max save magda gas chamber execution ; member ...  Marvel Comics   \n",
              "494   vic stone son pair scientist decide use test s...      DC Comics   \n",
              "302   channel positive energy , blackwulf able slice...  Marvel Comics   \n",
              "1615  arsenal later come conflict vandal savage . sa...      DC Comics   \n",
              "1951  decide stay future work legion , give flight r...      DC Comics   \n",
              "1797  apparently shatterstar body merge russell , re...  Marvel Comics   \n",
              "1150  korg kronan warrior reside sakaar force partic...  Marvel Comics   \n",
              "2035  defense inject serum change lizard prevent osc...  Marvel Comics   \n",
              "2071  mary macpherran bear prematurely suburb denver...  Marvel Comics   \n",
              "371   nathan summer ' birth carefully orchestrate ge...  Marvel Comics   \n",
              "2139  vili 2 brother odin ve , asgardian war frost g...  Marvel Comics   \n",
              "39    ajax ( bear francis freeman ) human gain immun...  Marvel Comics   \n",
              "1456  jean - paul beaubier parent kill car crash sho...  Marvel Comics   \n",
              "706   cannonball overpower feral , old friend lucia ...  Marvel Comics   \n",
              "167   prison serve father life sentence prison age 8...      DC Comics   \n",
              "490   doomsday eventually bring board space cruiser ...      DC Comics   \n",
              "2124  angelo fortunato humiliate criminal father , o...  Marvel Comics   \n",
              "188   daughter gotham police commissioner james gord...      DC Comics   \n",
              "1582  hippolyta sister , antiope amazon emerge soul ...      DC Comics   \n",
              "\n",
              "     predicted_label     result  n_words  \n",
              "1238       DC Comics  Incorrect      269  \n",
              "494    Marvel Comics  Incorrect      245  \n",
              "302        DC Comics  Incorrect      210  \n",
              "1615   Marvel Comics  Incorrect      281  \n",
              "1951   Marvel Comics  Incorrect      254  \n",
              "1797       DC Comics  Incorrect      216  \n",
              "1150       DC Comics  Incorrect       41  \n",
              "2035       DC Comics  Incorrect       42  \n",
              "2071       DC Comics  Incorrect      131  \n",
              "371        DC Comics  Incorrect      309  \n",
              "2139       DC Comics  Incorrect       65  \n",
              "39         DC Comics  Incorrect       17  \n",
              "1456       DC Comics  Incorrect      303  \n",
              "706        DC Comics  Incorrect       30  \n",
              "167    Marvel Comics  Incorrect       57  \n",
              "490    Marvel Comics  Incorrect      275  \n",
              "2124       DC Comics  Incorrect      113  \n",
              "188    Marvel Comics  Incorrect      127  \n",
              "1582   Marvel Comics  Incorrect      278  "
            ]
          },
          "execution_count": 43,
          "metadata": {},
          "output_type": "execute_result"
        }
      ],
      "source": [
        "results_knn[results_knn[\"result\"]==\"Incorrect\"]"
      ]
    },
    {
      "cell_type": "code",
      "execution_count": 44,
      "metadata": {},
      "outputs": [
        {
          "data": {
            "text/html": [
              "<div>\n",
              "<style scoped>\n",
              "    .dataframe tbody tr th:only-of-type {\n",
              "        vertical-align: middle;\n",
              "    }\n",
              "\n",
              "    .dataframe tbody tr th {\n",
              "        vertical-align: top;\n",
              "    }\n",
              "\n",
              "    .dataframe thead th {\n",
              "        text-align: right;\n",
              "    }\n",
              "</style>\n",
              "<table border=\"1\" class=\"dataframe\">\n",
              "  <thead>\n",
              "    <tr style=\"text-align: right;\">\n",
              "      <th></th>\n",
              "      <th>hist_text_classic</th>\n",
              "      <th>true_label</th>\n",
              "      <th>predicted_label</th>\n",
              "      <th>result</th>\n",
              "      <th>n_words</th>\n",
              "    </tr>\n",
              "  </thead>\n",
              "  <tbody>\n",
              "    <tr>\n",
              "      <th>2045</th>\n",
              "      <td>jonathan crane derange , criminally insane tee...</td>\n",
              "      <td>DC Comics</td>\n",
              "      <td>Marvel Comics</td>\n",
              "      <td>Incorrect</td>\n",
              "      <td>219</td>\n",
              "    </tr>\n",
              "    <tr>\n",
              "      <th>1238</th>\n",
              "      <td>max save magda gas chamber execution ; member ...</td>\n",
              "      <td>Marvel Comics</td>\n",
              "      <td>DC Comics</td>\n",
              "      <td>Incorrect</td>\n",
              "      <td>269</td>\n",
              "    </tr>\n",
              "    <tr>\n",
              "      <th>2040</th>\n",
              "      <td>montoya longstanding detective gcpd select que...</td>\n",
              "      <td>DC Comics</td>\n",
              "      <td>Marvel Comics</td>\n",
              "      <td>Incorrect</td>\n",
              "      <td>23</td>\n",
              "    </tr>\n",
              "    <tr>\n",
              "      <th>494</th>\n",
              "      <td>vic stone son pair scientist decide use test s...</td>\n",
              "      <td>DC Comics</td>\n",
              "      <td>Marvel Comics</td>\n",
              "      <td>Incorrect</td>\n",
              "      <td>245</td>\n",
              "    </tr>\n",
              "    <tr>\n",
              "      <th>302</th>\n",
              "      <td>channel positive energy , blackwulf able slice...</td>\n",
              "      <td>Marvel Comics</td>\n",
              "      <td>DC Comics</td>\n",
              "      <td>Incorrect</td>\n",
              "      <td>210</td>\n",
              "    </tr>\n",
              "    <tr>\n",
              "      <th>1175</th>\n",
              "      <td>sam stern little slow - witte laborer complete...</td>\n",
              "      <td>Marvel Comics</td>\n",
              "      <td>DC Comics</td>\n",
              "      <td>Incorrect</td>\n",
              "      <td>135</td>\n",
              "    </tr>\n",
              "    <tr>\n",
              "      <th>174</th>\n",
              "      <td>roberto velasquez talented boxer , spar friend...</td>\n",
              "      <td>Marvel Comics</td>\n",
              "      <td>DC Comics</td>\n",
              "      <td>Incorrect</td>\n",
              "      <td>290</td>\n",
              "    </tr>\n",
              "    <tr>\n",
              "      <th>2071</th>\n",
              "      <td>mary macpherran bear prematurely suburb denver...</td>\n",
              "      <td>Marvel Comics</td>\n",
              "      <td>DC Comics</td>\n",
              "      <td>Incorrect</td>\n",
              "      <td>131</td>\n",
              "    </tr>\n",
              "    <tr>\n",
              "      <th>759</th>\n",
              "      <td>flash thompson bully - turn selfless - soldier...</td>\n",
              "      <td>Marvel Comics</td>\n",
              "      <td>DC Comics</td>\n",
              "      <td>Incorrect</td>\n",
              "      <td>166</td>\n",
              "    </tr>\n",
              "    <tr>\n",
              "      <th>2139</th>\n",
              "      <td>vili 2 brother odin ve , asgardian war frost g...</td>\n",
              "      <td>Marvel Comics</td>\n",
              "      <td>DC Comics</td>\n",
              "      <td>Incorrect</td>\n",
              "      <td>65</td>\n",
              "    </tr>\n",
              "    <tr>\n",
              "      <th>330</th>\n",
              "      <td>jaime assistance , start develop free independ...</td>\n",
              "      <td>DC Comics</td>\n",
              "      <td>Marvel Comics</td>\n",
              "      <td>Incorrect</td>\n",
              "      <td>194</td>\n",
              "    </tr>\n",
              "    <tr>\n",
              "      <th>2114</th>\n",
              "      <td>speak jackson , come attack costume vigilante ...</td>\n",
              "      <td>Marvel Comics</td>\n",
              "      <td>DC Comics</td>\n",
              "      <td>Incorrect</td>\n",
              "      <td>210</td>\n",
              "    </tr>\n",
              "    <tr>\n",
              "      <th>39</th>\n",
              "      <td>ajax ( bear francis freeman ) human gain immun...</td>\n",
              "      <td>Marvel Comics</td>\n",
              "      <td>DC Comics</td>\n",
              "      <td>Incorrect</td>\n",
              "      <td>17</td>\n",
              "    </tr>\n",
              "    <tr>\n",
              "      <th>706</th>\n",
              "      <td>cannonball overpower feral , old friend lucia ...</td>\n",
              "      <td>Marvel Comics</td>\n",
              "      <td>DC Comics</td>\n",
              "      <td>Incorrect</td>\n",
              "      <td>30</td>\n",
              "    </tr>\n",
              "    <tr>\n",
              "      <th>2087</th>\n",
              "      <td>piper eventually chop hand trickster carry cor...</td>\n",
              "      <td>DC Comics</td>\n",
              "      <td>Marvel Comics</td>\n",
              "      <td>Incorrect</td>\n",
              "      <td>36</td>\n",
              "    </tr>\n",
              "    <tr>\n",
              "      <th>1918</th>\n",
              "      <td>reassure crew lose earth remain matter , journ...</td>\n",
              "      <td>DC Comics</td>\n",
              "      <td>Marvel Comics</td>\n",
              "      <td>Incorrect</td>\n",
              "      <td>12</td>\n",
              "    </tr>\n",
              "    <tr>\n",
              "      <th>1438</th>\n",
              "      <td>night thrasher parent kill young . start hate ...</td>\n",
              "      <td>Marvel Comics</td>\n",
              "      <td>DC Comics</td>\n",
              "      <td>Incorrect</td>\n",
              "      <td>72</td>\n",
              "    </tr>\n",
              "    <tr>\n",
              "      <th>32</th>\n",
              "      <td>mid - late 1973 , zero member team x , consist...</td>\n",
              "      <td>Marvel Comics</td>\n",
              "      <td>DC Comics</td>\n",
              "      <td>Incorrect</td>\n",
              "      <td>53</td>\n",
              "    </tr>\n",
              "    <tr>\n",
              "      <th>53</th>\n",
              "      <td>join father villain , kid amazo fight urge pro...</td>\n",
              "      <td>DC Comics</td>\n",
              "      <td>Marvel Comics</td>\n",
              "      <td>Incorrect</td>\n",
              "      <td>25</td>\n",
              "    </tr>\n",
              "  </tbody>\n",
              "</table>\n",
              "</div>"
            ],
            "text/plain": [
              "                                      hist_text_classic     true_label  \\\n",
              "2045  jonathan crane derange , criminally insane tee...      DC Comics   \n",
              "1238  max save magda gas chamber execution ; member ...  Marvel Comics   \n",
              "2040  montoya longstanding detective gcpd select que...      DC Comics   \n",
              "494   vic stone son pair scientist decide use test s...      DC Comics   \n",
              "302   channel positive energy , blackwulf able slice...  Marvel Comics   \n",
              "1175  sam stern little slow - witte laborer complete...  Marvel Comics   \n",
              "174   roberto velasquez talented boxer , spar friend...  Marvel Comics   \n",
              "2071  mary macpherran bear prematurely suburb denver...  Marvel Comics   \n",
              "759   flash thompson bully - turn selfless - soldier...  Marvel Comics   \n",
              "2139  vili 2 brother odin ve , asgardian war frost g...  Marvel Comics   \n",
              "330   jaime assistance , start develop free independ...      DC Comics   \n",
              "2114  speak jackson , come attack costume vigilante ...  Marvel Comics   \n",
              "39    ajax ( bear francis freeman ) human gain immun...  Marvel Comics   \n",
              "706   cannonball overpower feral , old friend lucia ...  Marvel Comics   \n",
              "2087  piper eventually chop hand trickster carry cor...      DC Comics   \n",
              "1918  reassure crew lose earth remain matter , journ...      DC Comics   \n",
              "1438  night thrasher parent kill young . start hate ...  Marvel Comics   \n",
              "32    mid - late 1973 , zero member team x , consist...  Marvel Comics   \n",
              "53    join father villain , kid amazo fight urge pro...      DC Comics   \n",
              "\n",
              "     predicted_label     result  n_words  \n",
              "2045   Marvel Comics  Incorrect      219  \n",
              "1238       DC Comics  Incorrect      269  \n",
              "2040   Marvel Comics  Incorrect       23  \n",
              "494    Marvel Comics  Incorrect      245  \n",
              "302        DC Comics  Incorrect      210  \n",
              "1175       DC Comics  Incorrect      135  \n",
              "174        DC Comics  Incorrect      290  \n",
              "2071       DC Comics  Incorrect      131  \n",
              "759        DC Comics  Incorrect      166  \n",
              "2139       DC Comics  Incorrect       65  \n",
              "330    Marvel Comics  Incorrect      194  \n",
              "2114       DC Comics  Incorrect      210  \n",
              "39         DC Comics  Incorrect       17  \n",
              "706        DC Comics  Incorrect       30  \n",
              "2087   Marvel Comics  Incorrect       36  \n",
              "1918   Marvel Comics  Incorrect       12  \n",
              "1438       DC Comics  Incorrect       72  \n",
              "32         DC Comics  Incorrect       53  \n",
              "53     Marvel Comics  Incorrect       25  "
            ]
          },
          "execution_count": 44,
          "metadata": {},
          "output_type": "execute_result"
        }
      ],
      "source": [
        "results_svm[results_svm[\"result\"]==\"Incorrect\"]"
      ]
    },
    {
      "cell_type": "code",
      "execution_count": 45,
      "metadata": {},
      "outputs": [
        {
          "data": {
            "text/html": [
              "<div>\n",
              "<style scoped>\n",
              "    .dataframe tbody tr th:only-of-type {\n",
              "        vertical-align: middle;\n",
              "    }\n",
              "\n",
              "    .dataframe tbody tr th {\n",
              "        vertical-align: top;\n",
              "    }\n",
              "\n",
              "    .dataframe thead th {\n",
              "        text-align: right;\n",
              "    }\n",
              "</style>\n",
              "<table border=\"1\" class=\"dataframe\">\n",
              "  <thead>\n",
              "    <tr style=\"text-align: right;\">\n",
              "      <th></th>\n",
              "      <th>hist_text_classic</th>\n",
              "      <th>true_label</th>\n",
              "      <th>predicted_label</th>\n",
              "      <th>result</th>\n",
              "      <th>n_words</th>\n",
              "    </tr>\n",
              "  </thead>\n",
              "  <tbody>\n",
              "    <tr>\n",
              "      <th>2040</th>\n",
              "      <td>montoya longstanding detective gcpd select que...</td>\n",
              "      <td>DC Comics</td>\n",
              "      <td>Marvel Comics</td>\n",
              "      <td>Incorrect</td>\n",
              "      <td>23</td>\n",
              "    </tr>\n",
              "    <tr>\n",
              "      <th>979</th>\n",
              "      <td>infinity man combine form forever people .</td>\n",
              "      <td>DC Comics</td>\n",
              "      <td>Marvel Comics</td>\n",
              "      <td>Incorrect</td>\n",
              "      <td>7</td>\n",
              "    </tr>\n",
              "    <tr>\n",
              "      <th>557</th>\n",
              "      <td>kindly one arrive dream allow destroy order sa...</td>\n",
              "      <td>DC Comics</td>\n",
              "      <td>Marvel Comics</td>\n",
              "      <td>Incorrect</td>\n",
              "      <td>14</td>\n",
              "    </tr>\n",
              "    <tr>\n",
              "      <th>703</th>\n",
              "      <td>record whereabouts mighty sorcerer know felix ...</td>\n",
              "      <td>DC Comics</td>\n",
              "      <td>Marvel Comics</td>\n",
              "      <td>Incorrect</td>\n",
              "      <td>18</td>\n",
              "    </tr>\n",
              "    <tr>\n",
              "      <th>1166</th>\n",
              "      <td>lagoon boy originally underwater city atlantis...</td>\n",
              "      <td>DC Comics</td>\n",
              "      <td>Marvel Comics</td>\n",
              "      <td>Incorrect</td>\n",
              "      <td>12</td>\n",
              "    </tr>\n",
              "    <tr>\n",
              "      <th>1481</th>\n",
              "      <td>dr . rudy jones ( die november 2016 ) research...</td>\n",
              "      <td>DC Comics</td>\n",
              "      <td>Marvel Comics</td>\n",
              "      <td>Incorrect</td>\n",
              "      <td>30</td>\n",
              "    </tr>\n",
              "    <tr>\n",
              "      <th>1456</th>\n",
              "      <td>jean - paul beaubier parent kill car crash sho...</td>\n",
              "      <td>Marvel Comics</td>\n",
              "      <td>DC Comics</td>\n",
              "      <td>Incorrect</td>\n",
              "      <td>303</td>\n",
              "    </tr>\n",
              "    <tr>\n",
              "      <th>706</th>\n",
              "      <td>cannonball overpower feral , old friend lucia ...</td>\n",
              "      <td>Marvel Comics</td>\n",
              "      <td>DC Comics</td>\n",
              "      <td>Incorrect</td>\n",
              "      <td>30</td>\n",
              "    </tr>\n",
              "    <tr>\n",
              "      <th>637</th>\n",
              "      <td>crisis , dawn granger london mother . mother ,...</td>\n",
              "      <td>DC Comics</td>\n",
              "      <td>Marvel Comics</td>\n",
              "      <td>Incorrect</td>\n",
              "      <td>87</td>\n",
              "    </tr>\n",
              "    <tr>\n",
              "      <th>56</th>\n",
              "      <td>have drink , rowdy guest penguin use gimmick u...</td>\n",
              "      <td>DC Comics</td>\n",
              "      <td>Marvel Comics</td>\n",
              "      <td>Incorrect</td>\n",
              "      <td>11</td>\n",
              "    </tr>\n",
              "    <tr>\n",
              "      <th>2087</th>\n",
              "      <td>piper eventually chop hand trickster carry cor...</td>\n",
              "      <td>DC Comics</td>\n",
              "      <td>Marvel Comics</td>\n",
              "      <td>Incorrect</td>\n",
              "      <td>36</td>\n",
              "    </tr>\n",
              "    <tr>\n",
              "      <th>1918</th>\n",
              "      <td>reassure crew lose earth remain matter , journ...</td>\n",
              "      <td>DC Comics</td>\n",
              "      <td>Marvel Comics</td>\n",
              "      <td>Incorrect</td>\n",
              "      <td>12</td>\n",
              "    </tr>\n",
              "    <tr>\n",
              "      <th>94</th>\n",
              "      <td>garth origin similar mentor . amphibious human...</td>\n",
              "      <td>DC Comics</td>\n",
              "      <td>Marvel Comics</td>\n",
              "      <td>Incorrect</td>\n",
              "      <td>292</td>\n",
              "    </tr>\n",
              "    <tr>\n",
              "      <th>406</th>\n",
              "      <td>child , nelson gardner sickly asthmatic , year...</td>\n",
              "      <td>DC Comics</td>\n",
              "      <td>Marvel Comics</td>\n",
              "      <td>Incorrect</td>\n",
              "      <td>121</td>\n",
              "    </tr>\n",
              "    <tr>\n",
              "      <th>1060</th>\n",
              "      <td>ability know people fear , reach john psyche f...</td>\n",
              "      <td>DC Comics</td>\n",
              "      <td>Marvel Comics</td>\n",
              "      <td>Incorrect</td>\n",
              "      <td>262</td>\n",
              "    </tr>\n",
              "    <tr>\n",
              "      <th>1582</th>\n",
              "      <td>hippolyta sister , antiope amazon emerge soul ...</td>\n",
              "      <td>DC Comics</td>\n",
              "      <td>Marvel Comics</td>\n",
              "      <td>Incorrect</td>\n",
              "      <td>278</td>\n",
              "    </tr>\n",
              "  </tbody>\n",
              "</table>\n",
              "</div>"
            ],
            "text/plain": [
              "                                      hist_text_classic     true_label  \\\n",
              "2040  montoya longstanding detective gcpd select que...      DC Comics   \n",
              "979          infinity man combine form forever people .      DC Comics   \n",
              "557   kindly one arrive dream allow destroy order sa...      DC Comics   \n",
              "703   record whereabouts mighty sorcerer know felix ...      DC Comics   \n",
              "1166  lagoon boy originally underwater city atlantis...      DC Comics   \n",
              "1481  dr . rudy jones ( die november 2016 ) research...      DC Comics   \n",
              "1456  jean - paul beaubier parent kill car crash sho...  Marvel Comics   \n",
              "706   cannonball overpower feral , old friend lucia ...  Marvel Comics   \n",
              "637   crisis , dawn granger london mother . mother ,...      DC Comics   \n",
              "56    have drink , rowdy guest penguin use gimmick u...      DC Comics   \n",
              "2087  piper eventually chop hand trickster carry cor...      DC Comics   \n",
              "1918  reassure crew lose earth remain matter , journ...      DC Comics   \n",
              "94    garth origin similar mentor . amphibious human...      DC Comics   \n",
              "406   child , nelson gardner sickly asthmatic , year...      DC Comics   \n",
              "1060  ability know people fear , reach john psyche f...      DC Comics   \n",
              "1582  hippolyta sister , antiope amazon emerge soul ...      DC Comics   \n",
              "\n",
              "     predicted_label     result  n_words  \n",
              "2040   Marvel Comics  Incorrect       23  \n",
              "979    Marvel Comics  Incorrect        7  \n",
              "557    Marvel Comics  Incorrect       14  \n",
              "703    Marvel Comics  Incorrect       18  \n",
              "1166   Marvel Comics  Incorrect       12  \n",
              "1481   Marvel Comics  Incorrect       30  \n",
              "1456       DC Comics  Incorrect      303  \n",
              "706        DC Comics  Incorrect       30  \n",
              "637    Marvel Comics  Incorrect       87  \n",
              "56     Marvel Comics  Incorrect       11  \n",
              "2087   Marvel Comics  Incorrect       36  \n",
              "1918   Marvel Comics  Incorrect       12  \n",
              "94     Marvel Comics  Incorrect      292  \n",
              "406    Marvel Comics  Incorrect      121  \n",
              "1060   Marvel Comics  Incorrect      262  \n",
              "1582   Marvel Comics  Incorrect      278  "
            ]
          },
          "execution_count": 45,
          "metadata": {},
          "output_type": "execute_result"
        }
      ],
      "source": [
        "results_nb[results_nb[\"result\"]==\"Incorrect\"]"
      ]
    }
  ],
  "metadata": {
    "colab": {
      "collapsed_sections": [
        "e__U2oo372zI"
      ],
      "provenance": []
    },
    "kernelspec": {
      "display_name": "Python 3",
      "name": "python3"
    },
    "language_info": {
      "codemirror_mode": {
        "name": "ipython",
        "version": 3
      },
      "file_extension": ".py",
      "mimetype": "text/x-python",
      "name": "python",
      "nbconvert_exporter": "python",
      "pygments_lexer": "ipython3",
      "version": "3.10.8"
    },
    "orig_nbformat": 4,
    "vscode": {
      "interpreter": {
        "hash": "38cca0c38332a56087b24af0bc80247f4fced29cb4f7f437d91dc159adec9c4e"
      }
    }
  },
  "nbformat": 4,
  "nbformat_minor": 0
}
